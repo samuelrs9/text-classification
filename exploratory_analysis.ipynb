{
 "cells": [
  {
   "cell_type": "markdown",
   "metadata": {},
   "source": [
    "# Carrega o dataset"
   ]
  },
  {
   "cell_type": "code",
   "execution_count": 40,
   "metadata": {},
   "outputs": [
    {
     "data": {
      "text/html": [
       "<div>\n",
       "<style scoped>\n",
       "    .dataframe tbody tr th:only-of-type {\n",
       "        vertical-align: middle;\n",
       "    }\n",
       "\n",
       "    .dataframe tbody tr th {\n",
       "        vertical-align: top;\n",
       "    }\n",
       "\n",
       "    .dataframe thead th {\n",
       "        text-align: right;\n",
       "    }\n",
       "</style>\n",
       "<table border=\"1\" class=\"dataframe\">\n",
       "  <thead>\n",
       "    <tr style=\"text-align: right;\">\n",
       "      <th></th>\n",
       "      <th>sentence</th>\n",
       "      <th>category</th>\n",
       "    </tr>\n",
       "  </thead>\n",
       "  <tbody>\n",
       "    <tr>\n",
       "      <th>0</th>\n",
       "      <td>Auxílio-Doença Previdenciário, Benefícios em E...</td>\n",
       "      <td>orgão público</td>\n",
       "    </tr>\n",
       "    <tr>\n",
       "      <th>1</th>\n",
       "      <td>PAGAR TODAS AS CONTAS EM ATRASO R$1.290,90.</td>\n",
       "      <td>finanças</td>\n",
       "    </tr>\n",
       "    <tr>\n",
       "      <th>2</th>\n",
       "      <td>Então encontraremos na próxima aula.</td>\n",
       "      <td>educação</td>\n",
       "    </tr>\n",
       "    <tr>\n",
       "      <th>3</th>\n",
       "      <td>Veja os resultados da categoria de ofertas do ...</td>\n",
       "      <td>indústrias</td>\n",
       "    </tr>\n",
       "    <tr>\n",
       "      <th>4</th>\n",
       "      <td>Além disso, a embalagem é reutilizável e 100% ...</td>\n",
       "      <td>indústrias,varejo</td>\n",
       "    </tr>\n",
       "    <tr>\n",
       "      <th>5</th>\n",
       "      <td>Na EAD Educação a distância você tem autonomia...</td>\n",
       "      <td>educação</td>\n",
       "    </tr>\n",
       "    <tr>\n",
       "      <th>6</th>\n",
       "      <td>Veja as condições de compra.</td>\n",
       "      <td>varejo</td>\n",
       "    </tr>\n",
       "    <tr>\n",
       "      <th>7</th>\n",
       "      <td>Pensão por Morte (Art. 74/9), Benefícios em Es...</td>\n",
       "      <td>orgão público</td>\n",
       "    </tr>\n",
       "    <tr>\n",
       "      <th>8</th>\n",
       "      <td>A primeira agência foi aberta em 2 de janeiro ...</td>\n",
       "      <td>finanças</td>\n",
       "    </tr>\n",
       "    <tr>\n",
       "      <th>9</th>\n",
       "      <td>Valor das parcelas</td>\n",
       "      <td>finanças,varejo</td>\n",
       "    </tr>\n",
       "    <tr>\n",
       "      <th>10</th>\n",
       "      <td>Lojas de sapatos.</td>\n",
       "      <td>varejo</td>\n",
       "    </tr>\n",
       "    <tr>\n",
       "      <th>11</th>\n",
       "      <td>Seu carrinho de compras ainda está vazio.</td>\n",
       "      <td>varejo</td>\n",
       "    </tr>\n",
       "    <tr>\n",
       "      <th>12</th>\n",
       "      <td>Sale até 50% OFF mais creme de mãos por R$9,90...</td>\n",
       "      <td>varejo</td>\n",
       "    </tr>\n",
       "    <tr>\n",
       "      <th>13</th>\n",
       "      <td>A BRK Ambiental é responsável pela gestão dos ...</td>\n",
       "      <td>indústrias</td>\n",
       "    </tr>\n",
       "    <tr>\n",
       "      <th>14</th>\n",
       "      <td>TRIBUNAL REGIONAL DO TRABALHO DA 15ª REGIÃO ED...</td>\n",
       "      <td>orgão público</td>\n",
       "    </tr>\n",
       "    <tr>\n",
       "      <th>15</th>\n",
       "      <td>Como saber o limite do cartão de crédito e o v...</td>\n",
       "      <td>finanças</td>\n",
       "    </tr>\n",
       "    <tr>\n",
       "      <th>16</th>\n",
       "      <td>Temos ofertas e promoções imperdíveis, sempre ...</td>\n",
       "      <td>varejo</td>\n",
       "    </tr>\n",
       "    <tr>\n",
       "      <th>17</th>\n",
       "      <td>OBS.: se houver alguma das pendências informad...</td>\n",
       "      <td>educação</td>\n",
       "    </tr>\n",
       "    <tr>\n",
       "      <th>18</th>\n",
       "      <td>Se a resposta dos alunos for positiva, o profe...</td>\n",
       "      <td>educação</td>\n",
       "    </tr>\n",
       "    <tr>\n",
       "      <th>19</th>\n",
       "      <td>FÓRUM II: FONÉTICA E FONOLOGIA DO PORTUGUÊS.</td>\n",
       "      <td>educação</td>\n",
       "    </tr>\n",
       "  </tbody>\n",
       "</table>\n",
       "</div>"
      ],
      "text/plain": [
       "                                             sentence           category\n",
       "0   Auxílio-Doença Previdenciário, Benefícios em E...      orgão público\n",
       "1         PAGAR TODAS AS CONTAS EM ATRASO R$1.290,90.           finanças\n",
       "2                Então encontraremos na próxima aula.           educação\n",
       "3   Veja os resultados da categoria de ofertas do ...         indústrias\n",
       "4   Além disso, a embalagem é reutilizável e 100% ...  indústrias,varejo\n",
       "5   Na EAD Educação a distância você tem autonomia...           educação\n",
       "6                        Veja as condições de compra.             varejo\n",
       "7   Pensão por Morte (Art. 74/9), Benefícios em Es...      orgão público\n",
       "8   A primeira agência foi aberta em 2 de janeiro ...           finanças\n",
       "9                                  Valor das parcelas    finanças,varejo\n",
       "10                                  Lojas de sapatos.             varejo\n",
       "11          Seu carrinho de compras ainda está vazio.             varejo\n",
       "12  Sale até 50% OFF mais creme de mãos por R$9,90...             varejo\n",
       "13  A BRK Ambiental é responsável pela gestão dos ...         indústrias\n",
       "14  TRIBUNAL REGIONAL DO TRABALHO DA 15ª REGIÃO ED...      orgão público\n",
       "15  Como saber o limite do cartão de crédito e o v...           finanças\n",
       "16  Temos ofertas e promoções imperdíveis, sempre ...             varejo\n",
       "17  OBS.: se houver alguma das pendências informad...           educação\n",
       "18  Se a resposta dos alunos for positiva, o profe...           educação\n",
       "19       FÓRUM II: FONÉTICA E FONOLOGIA DO PORTUGUÊS.           educação"
      ]
     },
     "execution_count": 40,
     "metadata": {},
     "output_type": "execute_result"
    }
   ],
   "source": [
    "import pandas as pd\n",
    "\n",
    "dataset = pd.read_csv('dataset.csv')\n",
    "dataset.head(20)"
   ]
  },
  {
   "cell_type": "markdown",
   "metadata": {},
   "source": [
    "# Agrupa por categoria"
   ]
  },
  {
   "cell_type": "code",
   "execution_count": 2,
   "metadata": {},
   "outputs": [
    {
     "name": "stdout",
     "output_type": "stream",
     "text": [
      "category\n",
      "educação                    107\n",
      "educação,finanças             2\n",
      "educação,indústrias           5\n",
      "educação,orgão público        9\n",
      "finanças                     54\n",
      "finanças,indústrias           3\n",
      "finanças,orgão público        4\n",
      "finanças,varejo              13\n",
      "indústrias                   89\n",
      "indústrias,orgão público      2\n",
      "indústrias,varejo             7\n",
      "orgão público               140\n",
      "varejo                       85\n",
      "varejo,indústrias             1\n",
      "dtype: int64\n"
     ]
    },
    {
     "data": {
      "text/plain": [
       "<AxesSubplot: ylabel='Frequency'>"
      ]
     },
     "execution_count": 2,
     "metadata": {},
     "output_type": "execute_result"
    },
    {
     "data": {
      "image/png": "[encoded data removed]",
      "text/plain": [
       "<Figure size 640x480 with 1 Axes>"
      ]
     },
     "metadata": {},
     "output_type": "display_data"
    }
   ],
   "source": [
    "categorias = dataset.groupby('category').size()\n",
    "print(categorias.head(20))\n",
    "categorias.plot.hist()\n"
   ]
  },
  {
   "cell_type": "markdown",
   "metadata": {},
   "source": [
    "# Conta elementos por categoria"
   ]
  },
  {
   "cell_type": "code",
   "execution_count": 3,
   "metadata": {},
   "outputs": [
    {
     "name": "stdout",
     "output_type": "stream",
     "text": [
      "                          sentence\n",
      "category                          \n",
      "educação                       107\n",
      "educação,finanças                2\n",
      "educação,indústrias              5\n",
      "educação,orgão público           9\n",
      "finanças                        54\n",
      "finanças,indústrias              3\n",
      "finanças,orgão público           4\n",
      "finanças,varejo                 13\n",
      "indústrias                      89\n",
      "indústrias,orgão público         2\n",
      "indústrias,varejo                7\n",
      "orgão público                  140\n",
      "varejo                          85\n",
      "varejo,indústrias                1\n"
     ]
    },
    {
     "data": {
      "text/plain": [
       "<AxesSubplot: ylabel='Frequency'>"
      ]
     },
     "execution_count": 3,
     "metadata": {},
     "output_type": "execute_result"
    },
    {
     "data": {
      "image/png": "[encoded data removed]",
      "text/plain": [
       "<Figure size 640x480 with 1 Axes>"
      ]
     },
     "metadata": {},
     "output_type": "display_data"
    }
   ],
   "source": [
    "categorias_count = dataset.groupby('category').count()\n",
    "print(categorias_count.head(20))\n",
    "categorias_count.plot.hist()"
   ]
  },
  {
   "cell_type": "markdown",
   "metadata": {},
   "source": [
    "# Padroniza as frases"
   ]
  },
  {
   "cell_type": "code",
   "execution_count": 4,
   "metadata": {},
   "outputs": [
    {
     "data": {
      "text/html": [
       "<div>\n",
       "<style scoped>\n",
       "    .dataframe tbody tr th:only-of-type {\n",
       "        vertical-align: middle;\n",
       "    }\n",
       "\n",
       "    .dataframe tbody tr th {\n",
       "        vertical-align: top;\n",
       "    }\n",
       "\n",
       "    .dataframe thead th {\n",
       "        text-align: right;\n",
       "    }\n",
       "</style>\n",
       "<table border=\"1\" class=\"dataframe\">\n",
       "  <thead>\n",
       "    <tr style=\"text-align: right;\">\n",
       "      <th></th>\n",
       "      <th>sentence</th>\n",
       "      <th>category</th>\n",
       "    </tr>\n",
       "  </thead>\n",
       "  <tbody>\n",
       "    <tr>\n",
       "      <th>0</th>\n",
       "      <td>auxílio doença previdenciário benefícios em es...</td>\n",
       "      <td>orgão público</td>\n",
       "    </tr>\n",
       "    <tr>\n",
       "      <th>1</th>\n",
       "      <td>pagar todas as contas em atraso r</td>\n",
       "      <td>finanças</td>\n",
       "    </tr>\n",
       "    <tr>\n",
       "      <th>2</th>\n",
       "      <td>então encontraremos na próxima aula</td>\n",
       "      <td>educação</td>\n",
       "    </tr>\n",
       "    <tr>\n",
       "      <th>3</th>\n",
       "      <td>veja os resultados da categoria de ofertas do ...</td>\n",
       "      <td>indústrias</td>\n",
       "    </tr>\n",
       "    <tr>\n",
       "      <th>4</th>\n",
       "      <td>além disso embalagem ser reutilizável e recicl...</td>\n",
       "      <td>indústrias,varejo</td>\n",
       "    </tr>\n",
       "    <tr>\n",
       "      <th>5</th>\n",
       "      <td>na ead educação distância você tem autonomia p...</td>\n",
       "      <td>educação</td>\n",
       "    </tr>\n",
       "    <tr>\n",
       "      <th>6</th>\n",
       "      <td>veja as condições de compra</td>\n",
       "      <td>varejo</td>\n",
       "    </tr>\n",
       "    <tr>\n",
       "      <th>7</th>\n",
       "      <td>pensão por morte art benefícios em espécie dir...</td>\n",
       "      <td>orgão público</td>\n",
       "    </tr>\n",
       "    <tr>\n",
       "      <th>8</th>\n",
       "      <td>a primeira agência foi aberta em de janeiro de...</td>\n",
       "      <td>finanças</td>\n",
       "    </tr>\n",
       "    <tr>\n",
       "      <th>9</th>\n",
       "      <td>valor das parcelas</td>\n",
       "      <td>finanças,varejo</td>\n",
       "    </tr>\n",
       "    <tr>\n",
       "      <th>10</th>\n",
       "      <td>lojas de sapatos</td>\n",
       "      <td>varejo</td>\n",
       "    </tr>\n",
       "    <tr>\n",
       "      <th>11</th>\n",
       "      <td>seu carrinho de compras ainda estar vazio</td>\n",
       "      <td>varejo</td>\n",
       "    </tr>\n",
       "    <tr>\n",
       "      <th>12</th>\n",
       "      <td>sale até off mais creme de mãos por r nas comp...</td>\n",
       "      <td>varejo</td>\n",
       "    </tr>\n",
       "    <tr>\n",
       "      <th>13</th>\n",
       "      <td>a brk ambiental ser responsável pela gestão do...</td>\n",
       "      <td>indústrias</td>\n",
       "    </tr>\n",
       "    <tr>\n",
       "      <th>14</th>\n",
       "      <td>tribunal regional do trabalho da  região edita...</td>\n",
       "      <td>orgão público</td>\n",
       "    </tr>\n",
       "    <tr>\n",
       "      <th>15</th>\n",
       "      <td>como saber o limite do cartão de crédito e o v...</td>\n",
       "      <td>finanças</td>\n",
       "    </tr>\n",
       "    <tr>\n",
       "      <th>16</th>\n",
       "      <td>temos ofertas e promoções imperdíveis sempre c...</td>\n",
       "      <td>varejo</td>\n",
       "    </tr>\n",
       "    <tr>\n",
       "      <th>17</th>\n",
       "      <td>obs se houver alguma das pendências informadas...</td>\n",
       "      <td>educação</td>\n",
       "    </tr>\n",
       "    <tr>\n",
       "      <th>18</th>\n",
       "      <td>se resposta dos alunos for positiva o professo...</td>\n",
       "      <td>educação</td>\n",
       "    </tr>\n",
       "    <tr>\n",
       "      <th>19</th>\n",
       "      <td>fórum ii fonética e fonologia do português</td>\n",
       "      <td>educação</td>\n",
       "    </tr>\n",
       "  </tbody>\n",
       "</table>\n",
       "</div>"
      ],
      "text/plain": [
       "                                             sentence           category\n",
       "0   auxílio doença previdenciário benefícios em es...      orgão público\n",
       "1                   pagar todas as contas em atraso r           finanças\n",
       "2                 então encontraremos na próxima aula           educação\n",
       "3   veja os resultados da categoria de ofertas do ...         indústrias\n",
       "4   além disso embalagem ser reutilizável e recicl...  indústrias,varejo\n",
       "5   na ead educação distância você tem autonomia p...           educação\n",
       "6                         veja as condições de compra             varejo\n",
       "7   pensão por morte art benefícios em espécie dir...      orgão público\n",
       "8   a primeira agência foi aberta em de janeiro de...           finanças\n",
       "9                                  valor das parcelas    finanças,varejo\n",
       "10                                   lojas de sapatos             varejo\n",
       "11          seu carrinho de compras ainda estar vazio             varejo\n",
       "12  sale até off mais creme de mãos por r nas comp...             varejo\n",
       "13  a brk ambiental ser responsável pela gestão do...         indústrias\n",
       "14  tribunal regional do trabalho da  região edita...      orgão público\n",
       "15  como saber o limite do cartão de crédito e o v...           finanças\n",
       "16  temos ofertas e promoções imperdíveis sempre c...             varejo\n",
       "17  obs se houver alguma das pendências informadas...           educação\n",
       "18  se resposta dos alunos for positiva o professo...           educação\n",
       "19         fórum ii fonética e fonologia do português           educação"
      ]
     },
     "execution_count": 4,
     "metadata": {},
     "output_type": "execute_result"
    }
   ],
   "source": [
    "def padroniza_frase(frase):\n",
    "    frase = frase.lower()\n",
    "    frase = frase.replace('-',' ')\n",
    "    frase = \"\".join(c for c in frase if c.isalpha() or c==' ')\n",
    "    outros_caracteres = ['ª','  ']\n",
    "    for c in outros_caracteres:\n",
    "        frase = frase.replace(c,' ')\n",
    "    frase = frase.replace(' é ',' ser ')\n",
    "    frase = frase.replace(' a ',' ')\n",
    "    frase = frase.replace(' está ',' estar ')\n",
    "\n",
    "def padroniza_dataset(df,col):\n",
    "    df[col] = df[col].str.lower()\n",
    "    df[col] = df[col].str.replace('-',' ')\n",
    "    for i in range(df.shape[0]):        \n",
    "        df.loc[i,'sentence'] = \"\".join(c for c in df.loc[i,'sentence'] if c.isalpha() or c==' ')\n",
    "    outros_caracteres = ['ª','  ']\n",
    "    for c in outros_caracteres:\n",
    "        df[col] = df[col].str.replace(c,' ')\n",
    "    df[col] = df[col].str.replace(' é ',' ser ')\n",
    "    df[col] = df[col].str.replace(' a ',' ')\n",
    "    df[col] = df[col].str.replace(' está ',' estar ')\n",
    "\n",
    "padroniza_dataset(dataset,'sentence')\n",
    "dataset.head(20)"
   ]
  },
  {
   "cell_type": "code",
   "execution_count": null,
   "metadata": {},
   "outputs": [],
   "source": []
  },
  {
   "cell_type": "markdown",
   "metadata": {},
   "source": [
    "# Histograma de palavras mais frequentes"
   ]
  },
  {
   "cell_type": "code",
   "execution_count": 5,
   "metadata": {},
   "outputs": [
    {
     "name": "stdout",
     "output_type": "stream",
     "text": [
      "Tamanho do vocabulário: 1917\n",
      "Vocabulário:  a abaixo abastecimento aberta abertas aberto abre absorvem acadêmico acadêmicos aceito aceitos acessar acesse acesso acessórios aché acima acionário acompanhamento acompanhar acompanhe acontece acordo activ adequada adicionado adicionados adicionais adicional adicionar adição administração adotadas adotiva adoção adquira advance adversos advogados aerossol afinal afirmativas agende agora agosto agradecemos agricultura agu aguarda aguarde agência ainda airbag airbags ajuda ajudar alcançamos alegre alerta alexandre algum alguma alguém alimentos alta alterar alto aluno alunos alvarás além ama ambiental ambiente ambientes americanas americano amigos aminoácidos amor amortecedores amplia ampliar analisa andamento andrade andré anhanguera animais aniversário ano anos ans anterior antes anti anticorrosão anticorrupção anton anual anuncia anunciado análise ao aos apartamento apenas aperfeiçoamento aplicação apoio aposentado aposentadoria apreensão aprendedor aprender aprendido aprendiz aprendizagem apresenta apresentadas apresentadores apresentados apresentamos apresentar apresentação aprofundamento aprofundar aprovada aproveitar aproveite aproximadamente apto após aquela aqui ar argentina armazéns art arte artigo as assento asserção assim assinada assine assista assistencial assistente assumem assunto assuntos at ata ateliê atendem atendendo atendente atender atendimento atente atento atingimos atingiu atitude ative atividades ativo ativos atraso através attack atual atualização atualize atuação até atóxica auditoria auditório audiência auferidos aula aulas aumenta aumentar autenticada automaticamente automação automático automóvel autonomia autor autores autuação autônomo auxiliar auxílio avaliadores avaliação avaliações avanço ação ações açúcar aí bacharelado bairro banco bancos bancário bancários barbie basta belga bem benchmark beneficiados benefício benefícios bicolor bilhão bilhões bioquímica blue bmw bnmp bnprjustiça boas boleto bolsa bolso bom bombom bonito bons branca branco brasil brasileira brk bruto busca buscar básica c cabreúvasp cacau cada cadastro cade cadeira café caixa caldas calendário camaro campo campos canal candidatar candidato canoa capacidade capacitação capital captar capão capítulo características carbono carbônico carga cargo carimbada carnê carreira carrinho carro carroceria carros carteira cartão cartórios cartões casa casas case caso caspar categoria categorias catálogo causa celta celular central cep certidão certificado certificados certificação cesta cgesea chamamento chave chegar cheque chevrolet chocolate ci ciclo cidadania cidade cidadã cidadão científica científico científicos citação citibank citroen civil ciência ciências claro classe classic classificação cliente clientes clique cliques clubes cláusula cmxm cna cnh cnj coelho colaboradores colegas coleção colisão com combina combrasil combustível começa comfortline comissão como companhias compare competitividade competência complementando completa completo componentes composta compra comprando comprar compraria compras compre compreende compreensão comprovante comprove comunicado comunidade comércio concatenar conceito conceitos concentração concessionária concessionárias concessão conclusos conclusão concluído concordo concorrer condena condicionado condições condolências conduta conecte confecção configurar confira confirmada confirmar conforme conhecimento conheça conjunta conosco conscientização consegue conselho considera consistem constantemente constitucional constituir constitutiva construção construções consul consultas consulte consumidor consumo conta contabilidade contar contas contato contemplar contextualizando conteúdo conteúdos continua continuar contra contratadas contrato contribuem contribuição controle controles contábeis contínua conversão convites coordenadas copos cor cores coronavírus corpo corregedoria corrente correntes correntista corrigir costumes country couro covid cozinha credenciamento creme crepon criando crianças criciúma critérios cruze crédito cultivando cumprimento cupom curricular cursando curso cursos custos cvt cálculo câmara câmbio cível códigos cópia da dados das data de debates decisão decisãodespacho declarar declaração declaro defensoria deferida definições del demandas demonstrações demora dentro denuncie departamento depois des desafiado descongelar desconto descontos descritos desde desejo desemprego desenhista desenvolver desenvolvimento desfavoráveis design desigualdade desodorante destaca destaques deste destinado desvios detalhes deve devem deveres deverá devoluções dezembro df dge dia dianteiro dias dicas didática didáticos diferente diferentes diferença dificuldade digital digite dimensional diminuir dinheiro dip direcionadas direcionados direito direitos diretamente diretores diretrizes dirigir disciplina disponibilizados disponilidade disponivel disponíveis disponível dispõe disso distrito distância diversas diversidades dividida divulga divulgado diário do doa documentação documento documentos doença dois domingo domínio dono dos download drive duster débito débitos dívida dólar e ead easy eco ecolapis ecolápis economia economiza edificações editais edital edredom edson educacionais educador educação efetivação efetuado efetuados efetuatda eficácia egressos eireli ele eleitoral eletrônica eletrônico elevado elétrico em embalagem embalagens embargos emeis emendas emergencial emergência emissão emissões emite emitido emitidos empilhadeira empreendedorismo empresa empresas empresário encaminhamentos encerradas encontra encontraremos encontre encontros energia energética energético engenharia engenharias enorme enquadrar enquanto ensaio ensino entrada entre entrega entregue entregues entry entulho então enviados enviar envio envios envolvimento equinox equipado equipamentos escolar escolas escolha escolher escolhido escritura esgoto espanhola espaço especiais especial especializada específicas espero espm esportividade esposa espécie esse esses estabelecidos estabilidade estado estagiário estar estarão este esteja estiver estojo estoque estratégica estuda estudam estudante estudantes estudar estude estudo estudos estácio estágio estática estão etapa etapas eu evento eventos eventuais evolução excelência exceto exclusivo exclusivos execuçãocumprimento exercício exigências existem experiência experiências explicar explore exportadora extensão externa extra extrato extremamente faber falantes fale falhas falsa falsificação familiares família famílias farol fará fase fato fatura favor faz fazenda fazer faça faço federal feijão feira feiras fi fiat ficam fidelização figura filho filosófica fim finalizado finalizar financeiras financeiro financiamento financista finanças fique fisioterapia fizeram florestas focamos foi fonoaudiologia fonologia fonte fonética for forma formas formato formação formulação fornecedores fotos francês fraudes free frenagem frequentes frequência frete friday friedel frontal frontier frost funcionamento fundamental fundo função futuro fábrica fábricas fácil fé férias física fórum g gabinete galeria gama ganham ganhe garanta garante garantia garantindo garantir garrafa gear gei geladeira gente gentileza genéricos geografia george gestão gilmar global gomes google gostaria gosto governo gp graduação grafite grand grande gratuita gratuitamente gratuito gratuitos grosso grupo grupos gráfica grátis guardar guia guias gás h habitação hatakeyama hatch hato henrique high hipercard história histórico hoje homologada honda hora horas horária houver hs humana humanas humano humanos hyundai hábito híbrido i ias identidade identificação if iguais igual ii ilhabela imagem imagens imobiliária imperdíveis implanta importante importância imposto impostos imprimir inaugura incentiva incidência inclua inclusive incorreta incríveis indaiatuba indicar indisponível industriais industrial indústria infantil influências infojobs informadas informativos informações informe infraestrutura infração ingresso ingressos inicia iniciais inicial iniciam iniciar iniciativa iniciativas iniciação inmetro inovação inox inscreva inscrição inscrições inspetor inspeção inspirada inss instituição instituições instituto institutos instrumento instrutivo instrutor instrução instância integral inteira intelligent intense inter interdisciplinar interesse interna internacionais internacional internas internet intervalo introdução invalidez investidor investimento investimentos investir inédito início iptu ir irregularidades itaucard itaú itens itr içara janeiro japonesa jef jgf jogo josé joy joão judicial judiciário juizado julgado julgador julgamento jundiaí junho juntada jurisdição jurisprudência juros jurídica justificar justifique justiça juízo já kg kicks kit km kmh l lacta laka lamenta lança laranja lavagem lavar lavável led legais legislativa legítimo lei leite leitura leituras li liberar libras licitações lima limite limpeza line linguístico linha lis literatura litro litros livina livros loa locador local localizada localizar localização logan logistica logística logísticas loja lojas longe lote luiz luz lá lápis líbano língua madeira magnus maia mail maior mais malas manter mantêm manuais manual manutenção maranhão maravilha marca marcar marcas maria marketing marmitex marque marrom matemática materiais material mato matricule matriz matrícula matéria mec mediante medicina medidas mega meia meio meios melhor melhores menor menos mensagem mensais mensal mensalidade mercado mesa meses mesma mesmo metas metodologia metálico meu meus microondas mil milhões ministério modelo modelos modernos modo moeda momento monetário monitoramos montagem monte moradores morte mortes motivo motor motorista movimentos mpsp mt muitas muito multas multifuncional multiplicado mundo municipais municipal mylink máquina máxima máximo mães mãos médio método mês módulo n na nacionais nacional nas navegue neblina necessário necessários negociação negócios nesta neste neurociências neutra neutralizam neutro nissan nivus no nome nomeados nomeação norma normas normativa nos nossa nossas nossasconcessionárias nossos nota noturno nova novamente novas novidades novo novos nr numeração nuremberg nº não nível núcleo número números o objetivas objetivos obrigatórios obs observadas ocorrem ocorridos oferece oferecer ofertas off oficial olist on onde onix online onovo operação operações opinião opção opções organizado organizadores organizar orientação orientações original orçamento orçamentária os ostermos ostras ou ouro outras outro outros ovo pacote padrões paga pagamento pagamentos pagar pagará pagou pagseguro pague palestrantes palhaço papel papéis para parceiros parcela parceladas parcelar parcelas parcerias parnaibanas parnaíba parte participantes particulares partir passaram passo passos pastores paulo pauta país pedagogia pedaços pedido pedidos pedimos pela pelas pelo pelos penal pendências pensadores pensão pequeno pequenos percebido percepções perdas perder perecíveis performance perguntas perigos permanência permite pernambuco perto período pesar pesquisa pessoa pessoais pessoas petição peugeot peça peças piloto pirituba pix planejamento planeje planejou plano planos plataforma plus plástico pmc pode podem podendo poder poderá poema pois poli polo polos política políticas ponto pontuação populares população por porque porta portal porte porto portuguesa português positiva possui possível postos pot poucos poupança pouquinho pouso pra pragmático prazo prazos precauções precedentes precisa preciso predial prefeito prefeitura preferida preferência preliminarmente preparada presas presenciais presencial presentear preservação presos presta prestação prestes preto previdenciário previdência previsto previsão preço preços primeira primeiro primeiros primário principal principalmente princípios privacidade privada privados problema proc proceder procedimento processo processos processuais processual produtinhos produto produtor produtora produtos produzido produzidos produzir produção professor professores profissionais profissional profissionalizante profissão profundamente programa programar programas progredir projeto projetos projeção proletário promove promoção promoções pronta pronto proporcionarmos proposição proposta propriedade proprietário proteger protegidos proteja protetivas proteção protocolo prova práticas prêmio própria próprias próprio próxima próximo próximos psicologia psicopedagogia publica publicidade páscoa pós pública públicas público públicos quadrilha quais qual qualidade qualificação qualquer quando quantas quantidade quanto quarta quartas que quedas queiroz quem quer queridinhos quero questão questões quiser r reais realidade realiza realizada realizado realizados realizar realização recall recebe recebem receber receberá recebo reciclável recolhimento recomendado recomendo reconhecer reconhecimento recursos redação rede redes reduzido redução referente referência reflexão reflorestada reforma reforçar refrigerador regional registro registros região regularizar regularização reitoria relacionados relate relativas relativo relativos relatórios relação relações remoção renault renda rendimento rendimentos renovação repetitivas replay representações requer requisitos requisição reservas resfriamento resgata resolva respectivas respeito responsabilidade responsável resposta ressler restante resultados retirada retire retomada retorno reuniões reutilizável revendas revisão revitaliza rio rotulagem rs rua rural rápida rápidos s saber sacola saia saiba sair sale salgado sandero sandro santana santo sapatos saúde se secretaria secretária secretários sedan sede seguem seguintes segunda segundo segura segurança seguro seis selecionadas selecionado selecione seletivo sem semana semestre sempre senai sendo sense sentença senão sequência ser serem seria serra serve servidor serviço serviços será serão sessões setor seu seus sexta seção shampoos showroom silvestres sinais sinceras sirene sistema sistemas site situação slides sobra sobre sobrestado sociais social sofre soldagem solicitação solicite solidária soma somam somente sonho sozinho sp spin sptrans ssi stein sua suas subprefeitura substituição substituto sucesso suco sudeste sujeitam summit super supera superintendência superior supermercados suplementar suprimento suspenso suspensão suv suvw sábados são série só takata também tanque tanto tarifa taxa tcc te tech tecnologia tecnologias tela telefone tem temos temperatura tempo temporada tenha tenho ter terceiros termina termos territorial terá test testes texto textos teórica tinta tintas tipo tipos todas todo todos toneladas tornar totais total totalizaram totalmente trabalahar trabalha trabalhadores trabalhe trabalhista trabalho trabalhos tracker tradução trajetória trancada tranquilidade transferir transferência transforma transitada transmissão transportes traseira trata tratados traçadas tre treinamento trf tribunais tribunal tributos trilha trilhão trilhões trimestre troca trocas trânsito três tsi tubo tudo turno turnos tutores tutoriais tão técnico término títulos tópico um uma unesc unibanco unicard unidade unidades unimar união urbana urbano urbanos us usado usem uso usp utilizar utilizará uva v vacinados vacinação vaga vagas vale valendo validação valle valor valores valorização valparaíso vapor vara varejo variar vazia vazio veicular veja velocidade vem vendas vendeu vendidas vendido ver verdadeira vereadores verificar verificação vermelha versa versátil versão verá verão vestibular vez vezes veículo veículos via viagem vida vindo virou virtual visite visual visualiza visão vitaliciedade você volante volkswagen volta voltagem voltam voltar volte vulnerabilidade várias vários várzea vão vêm vídeo web webconferência webinar wi wilhelm windows word x xtronic yara zoe º à às água área áreas é ética índice ítalo óleo órgão órgãos últimas único\n",
      "(1917,)\n"
     ]
    },
    {
     "data": {
      "text/plain": [
       "<AxesSubplot: ylabel='Frequency'>"
      ]
     },
     "execution_count": 5,
     "metadata": {},
     "output_type": "execute_result"
    },
    {
     "data": {
      "image/png": "[encoded data removed]",
      "text/plain": [
       "<Figure size 640x480 with 1 Axes>"
      ]
     },
     "metadata": {},
     "output_type": "display_data"
    }
   ],
   "source": [
    "palavras = pd.DataFrame(\" \".join(dataset['sentence']).split(),columns=['palavras'])\n",
    "histograma = palavras.groupby('palavras').size()\n",
    "\n",
    "vocab_size = histograma.index.shape[0]\n",
    "print(f'Tamanho do vocabulário: {vocab_size}')\n",
    "print('Vocabulário: ',' '.join(histograma.index))\n",
    "\n",
    "print(histograma.shape)\n",
    "histograma.plot.hist()\n"
   ]
  },
  {
   "cell_type": "code",
   "execution_count": 44,
   "metadata": {},
   "outputs": [],
   "source": [
    "import numpy as np\n",
    "\n",
    "a = np.unique(\" \".join(dataset['sentence'].values).split())"
   ]
  },
  {
   "cell_type": "code",
   "execution_count": 77,
   "metadata": {},
   "outputs": [
    {
     "data": {
      "text/plain": [
       "<tf.Tensor: shape=(), dtype=float64, numpy=2.5>"
      ]
     },
     "execution_count": 77,
     "metadata": {},
     "output_type": "execute_result"
    }
   ],
   "source": [
    "import tensorflow as tf \n",
    "nomes = tf.strings.split([\"samuel rocha\",\"yasmin nascimento barros\"])\n",
    "t = tf.map_fn(lambda x: x.shape[0],nomes,fn_output_signature=tf.int32)\n",
    "tf.convert_to_tensor(np.median(t))\n"
   ]
  },
  {
   "cell_type": "code",
   "execution_count": 6,
   "metadata": {},
   "outputs": [
    {
     "data": {
      "text/plain": [
       "palavras\n",
       "a                21\n",
       "abaixo            3\n",
       "abastecimento     1\n",
       "aberta            1\n",
       "abertas           4\n",
       "                 ..\n",
       "óleo              2\n",
       "órgão             1\n",
       "órgãos            1\n",
       "últimas           1\n",
       "único             1\n",
       "Length: 1917, dtype: int64"
      ]
     },
     "execution_count": 6,
     "metadata": {},
     "output_type": "execute_result"
    }
   ],
   "source": [
    "words = \" \".join(dataset['sentence'].values).split()\n",
    "histograma = words.groupby('palavras').size()\n",
    "\n",
    "vocab_size = histograma.index.shape[0]\n",
    "print(f'Tamanho do vocabulário: {vocab_size}')"
   ]
  },
  {
   "cell_type": "markdown",
   "metadata": {},
   "source": [
    "# Conta palavras por frase"
   ]
  },
  {
   "cell_type": "code",
   "execution_count": 7,
   "metadata": {},
   "outputs": [
    {
     "data": {
      "image/png": "[encoded data removed]",
      "text/plain": [
       "<Figure size 640x480 with 1 Axes>"
      ]
     },
     "metadata": {},
     "output_type": "display_data"
    }
   ],
   "source": [
    "num_palavras = dataset['sentence'].str.split(' ').apply(len)\n",
    "\n",
    "num_palavras.plot.hist()\n",
    "\n",
    "max_palavras = int(num_palavras.max())\n",
    "median_palvras = int(num_palavras.median())"
   ]
  },
  {
   "cell_type": "code",
   "execution_count": 8,
   "metadata": {},
   "outputs": [
    {
     "data": {
      "text/plain": [
       "10"
      ]
     },
     "execution_count": 8,
     "metadata": {},
     "output_type": "execute_result"
    }
   ],
   "source": [
    "median_palvras"
   ]
  },
  {
   "cell_type": "markdown",
   "metadata": {},
   "source": [
    "# Categorias únicas"
   ]
  },
  {
   "cell_type": "code",
   "execution_count": 9,
   "metadata": {},
   "outputs": [
    {
     "name": "stdout",
     "output_type": "stream",
     "text": [
      "Numero de categorias:  5\n"
     ]
    }
   ],
   "source": [
    "categorias = list(map(lambda x: x.split(','),dataset['category'].unique()))\n",
    "\n",
    "categorias_unicas = \" - \".join(dataset['category'].unique())\n",
    "categorias_unicas = categorias_unicas.replace(',',' - ')\n",
    "categorias_unicas = pd.unique(categorias_unicas.split(' - '))\n",
    "categorias_unicas = pd.Series(range(len(categorias_unicas)),index=sorted(categorias_unicas))\n",
    "\n",
    "num_categorias = categorias_unicas.shape[0]\n",
    "\n",
    "print('Numero de categorias: ',num_categorias)\n"
   ]
  },
  {
   "cell_type": "code",
   "execution_count": 10,
   "metadata": {},
   "outputs": [
    {
     "data": {
      "text/plain": [
       "5"
      ]
     },
     "execution_count": 10,
     "metadata": {},
     "output_type": "execute_result"
    }
   ],
   "source": [
    "categorias_unicas.shape[0]"
   ]
  },
  {
   "cell_type": "code",
   "execution_count": 11,
   "metadata": {},
   "outputs": [
    {
     "data": {
      "text/plain": [
       "array([[0., 0., 0., 1., 0.],\n",
       "       [0., 1., 0., 0., 0.],\n",
       "       [1., 0., 0., 0., 0.],\n",
       "       ...,\n",
       "       [0., 0., 0., 1., 0.],\n",
       "       [0., 0., 0., 1., 0.],\n",
       "       [0., 0., 0., 1., 0.]])"
      ]
     },
     "execution_count": 11,
     "metadata": {},
     "output_type": "execute_result"
    }
   ],
   "source": [
    "import numpy as np\n",
    "\n",
    "categorias_codificadas = np.zeros((dataset.shape[0],categorias_unicas.shape[0]))\n",
    "\n",
    "for i in range(dataset.shape[0]):\n",
    "    for label in dataset.loc[i,'category'].split(','):\n",
    "        categorias_codificadas[i,categorias_unicas[label]] = 1\n",
    "        \n",
    "categorias_codificadas"
   ]
  },
  {
   "cell_type": "markdown",
   "metadata": {},
   "source": [
    "# Codifica categorias"
   ]
  },
  {
   "cell_type": "code",
   "execution_count": 12,
   "metadata": {},
   "outputs": [
    {
     "name": "stdout",
     "output_type": "stream",
     "text": [
      "[[0. 0. 0. 1. 0.]\n",
      " [0. 1. 0. 0. 0.]\n",
      " [1. 0. 0. 0. 0.]\n",
      " ...\n",
      " [0. 0. 0. 1. 0.]\n",
      " [0. 0. 0. 1. 0.]\n",
      " [0. 0. 0. 1. 0.]]\n"
     ]
    }
   ],
   "source": [
    "import numpy as np\n",
    "import pandas as pd\n",
    "\n",
    "def codifica_categorias(categorias):\n",
    "    categorias_unicas = \" - \".join(pd.unique(categorias))\n",
    "    categorias_unicas = categorias_unicas.replace(',',' - ')\n",
    "    categorias_unicas = pd.unique(categorias_unicas.split(' - '))\n",
    "    categorias_unicas = pd.Series(range(len(categorias_unicas)),index=sorted(categorias_unicas))    \n",
    "    \n",
    "    categorias_codificadas = np.zeros((dataset.shape[0],num_categorias))\n",
    "\n",
    "    for i in range(dataset.shape[0]):\n",
    "        for label in dataset.loc[i,'category'].split(','):\n",
    "            categorias_codificadas[i,categorias_unicas[label]] = 1    \n",
    "    return categorias_codificadas\n",
    "\n",
    "encoded_category = codifica_categorias(dataset['category'])\n",
    "print(encoded_category)"
   ]
  },
  {
   "cell_type": "code",
   "execution_count": 15,
   "metadata": {},
   "outputs": [
    {
     "name": "stdout",
     "output_type": "stream",
     "text": [
      "a abaixo abastecimento aberta abertas aberto abre absorvem acadêmico acadêmicos aceito aceitos acessar acesse acesso acessórios aché acima acionário acompanhamento acompanhar acompanhe acontece acordo activ adequada adicionado adicionados adicionais adicional adicionar adição administração adotadas adotiva adoção adquira advance adversos advogados aerossol afinal afirmativas agende agora agosto agradecemos agricultura agu aguarda aguarde agência ainda airbag airbags ajuda ajudar alcançamos alegre alerta alexandre algum alguma alguém alimentos alta alterar alto aluno alunos alvarás além ama ambiental ambiente ambientes americanas americano amigos aminoácidos amor amortecedores amplia ampliar analisa andamento andrade andré anhanguera animais aniversário ano anos ans anterior antes anti anticorrosão anticorrupção anton anual anuncia anunciado análise ao aos apartamento apenas aperfeiçoamento aplicação apoio aposentado aposentadoria apreensão aprendedor aprender aprendido aprendiz aprendizagem apresenta apresentadas apresentadores apresentados apresentamos apresentar apresentação aprofundamento aprofundar aprovada aproveitar aproveite aproximadamente apto após aquela aqui ar argentina armazéns art arte artigo as assento asserção assim assinada assine assista assistencial assistente assumem assunto assuntos at ata ateliê atendem atendendo atendente atender atendimento atente atento atingimos atingiu atitude ative atividades ativo ativos atraso através attack atual atualização atualize atuação até atóxica auditoria auditório audiência auferidos aula aulas aumenta aumentar autenticada automaticamente automação automático automóvel autonomia autor autores autuação autônomo auxiliar auxílio avaliadores avaliação avaliações avanço ação ações açúcar aí bacharelado bairro banco bancos bancário bancários barbie basta belga bem benchmark beneficiados benefício benefícios bicolor bilhão bilhões bioquímica blue bmw bnmp bnprjustiça boas boleto bolsa bolso bom bombom bonito bons branca branco brasil brasileira brk bruto busca buscar básica c cabreúvasp cacau cada cadastro cade cadeira café caixa caldas calendário camaro campo campos canal candidatar candidato canoa capacidade capacitação capital captar capão capítulo características carbono carbônico carga cargo carimbada carnê carreira carrinho carro carroceria carros carteira cartão cartórios cartões casa casas case caso caspar categoria categorias catálogo causa celta celular central cep certidão certificado certificados certificação cesta cgesea chamamento chave chegar cheque chevrolet chocolate ci ciclo cidadania cidade cidadã cidadão científica científico científicos citação citibank citroen civil ciência ciências claro classe classic classificação cliente clientes clique cliques clubes cláusula cmxm cna cnh cnj coelho colaboradores colegas coleção colisão com combina combrasil combustível começa comfortline comissão como companhias compare competitividade competência complementando completa completo componentes composta compra comprando comprar compraria compras compre compreende compreensão comprovante comprove comunicado comunidade comércio concatenar conceito conceitos concentração concessionária concessionárias concessão conclusos conclusão concluído concordo concorrer condena condicionado condições condolências conduta conecte confecção configurar confira confirmada confirmar conforme conhecimento conheça conjunta conosco conscientização consegue conselho considera consistem constantemente constitucional constituir constitutiva construção construções consul consultas consulte consumidor consumo conta contabilidade contar contas contato contemplar contextualizando conteúdo conteúdos continua continuar contra contratadas contrato contribuem contribuição controle controles contábeis contínua conversão convites coordenadas copos cor cores coronavírus corpo corregedoria corrente correntes correntista corrigir costumes country couro covid cozinha credenciamento creme crepon criando crianças criciúma critérios cruze crédito cultivando cumprimento cupom curricular cursando curso cursos custos cvt cálculo câmara câmbio cível códigos cópia da dados das data de debates decisão decisãodespacho declarar declaração declaro defensoria deferida definições del demandas demonstrações demora dentro denuncie departamento depois des desafiado descongelar desconto descontos descritos desde desejo desemprego desenhista desenvolver desenvolvimento desfavoráveis design desigualdade desodorante destaca destaques deste destinado desvios detalhes deve devem deveres deverá devoluções dezembro df dge dia dianteiro dias dicas didática didáticos diferente diferentes diferença dificuldade digital digite dimensional diminuir dinheiro dip direcionadas direcionados direito direitos diretamente diretores diretrizes dirigir disciplina disponibilizados disponilidade disponivel disponíveis disponível dispõe disso distrito distância diversas diversidades dividida divulga divulgado diário do doa documentação documento documentos doença dois domingo domínio dono dos download drive duster débito débitos dívida dólar e ead easy eco ecolapis ecolápis economia economiza edificações editais edital edredom edson educacionais educador educação efetivação efetuado efetuados efetuatda eficácia egressos eireli ele eleitoral eletrônica eletrônico elevado elétrico em embalagem embalagens embargos emeis emendas emergencial emergência emissão emissões emite emitido emitidos empilhadeira empreendedorismo empresa empresas empresário encaminhamentos encerradas encontra encontraremos encontre encontros energia energética energético engenharia engenharias enorme enquadrar enquanto ensaio ensino entrada entre entrega entregue entregues entry entulho então enviados enviar envio envios envolvimento equinox equipado equipamentos escolar escolas escolha escolher escolhido escritura esgoto espanhola espaço especiais especial especializada específicas espero espm esportividade esposa espécie esse esses estabelecidos estabilidade estado estagiário estar estarão este esteja estiver estojo estoque estratégica estuda estudam estudante estudantes estudar estude estudo estudos estácio estágio estática estão etapa etapas eu evento eventos eventuais evolução excelência exceto exclusivo exclusivos execuçãocumprimento exercício exigências existem experiência experiências explicar explore exportadora extensão externa extra extrato extremamente faber falantes fale falhas falsa falsificação familiares família famílias farol fará fase fato fatura favor faz fazenda fazer faça faço federal feijão feira feiras fi fiat ficam fidelização figura filho filosófica fim finalizado finalizar financeiras financeiro financiamento financista finanças fique fisioterapia fizeram florestas focamos foi fonoaudiologia fonologia fonte fonética for forma formas formato formação formulação fornecedores fotos francês fraudes free frenagem frequentes frequência frete friday friedel frontal frontier frost funcionamento fundamental fundo função futuro fábrica fábricas fácil fé férias física fórum g gabinete galeria gama ganham ganhe garanta garante garantia garantindo garantir garrafa gear gei geladeira gente gentileza genéricos geografia george gestão gilmar global gomes google gostaria gosto governo gp graduação grafite grand grande gratuita gratuitamente gratuito gratuitos grosso grupo grupos gráfica grátis guardar guia guias gás h habitação hatakeyama hatch hato henrique high hipercard história histórico hoje homologada honda hora horas horária houver hs humana humanas humano humanos hyundai hábito híbrido i ias identidade identificação if iguais igual ii ilhabela imagem imagens imobiliária imperdíveis implanta importante importância imposto impostos imprimir inaugura incentiva incidência inclua inclusive incorreta incríveis indaiatuba indicar indisponível industriais industrial indústria infantil influências infojobs informadas informativos informações informe infraestrutura infração ingresso ingressos inicia iniciais inicial iniciam iniciar iniciativa iniciativas iniciação inmetro inovação inox inscreva inscrição inscrições inspetor inspeção inspirada inss instituição instituições instituto institutos instrumento instrutivo instrutor instrução instância integral inteira intelligent intense inter interdisciplinar interesse interna internacionais internacional internas internet intervalo introdução invalidez investidor investimento investimentos investir inédito início iptu ir irregularidades itaucard itaú itens itr içara janeiro japonesa jef jgf jogo josé joy joão judicial judiciário juizado julgado julgador julgamento jundiaí junho juntada jurisdição jurisprudência juros jurídica justificar justifique justiça juízo já kg kicks kit km kmh l lacta laka lamenta lança laranja lavagem lavar lavável led legais legislativa legítimo lei leite leitura leituras li liberar libras licitações lima limite limpeza line linguístico linha lis literatura litro litros livina livros loa locador local localizada localizar localização logan logistica logística logísticas loja lojas longe lote luiz luz lá lápis líbano língua madeira magnus maia mail maior mais malas manter mantêm manuais manual manutenção maranhão maravilha marca marcar marcas maria marketing marmitex marque marrom matemática materiais material mato matricule matriz matrícula matéria mec mediante medicina medidas mega meia meio meios melhor melhores menor menos mensagem mensais mensal mensalidade mercado mesa meses mesma mesmo metas metodologia metálico meu meus microondas mil milhões ministério modelo modelos modernos modo moeda momento monetário monitoramos montagem monte moradores morte mortes motivo motor motorista movimentos mpsp mt muitas muito multas multifuncional multiplicado mundo municipais municipal mylink máquina máxima máximo mães mãos médio método mês módulo n na nacionais nacional nas navegue neblina necessário necessários negociação negócios nesta neste neurociências neutra neutralizam neutro nissan nivus no nome nomeados nomeação norma normas normativa nos nossa nossas nossasconcessionárias nossos nota noturno nova novamente novas novidades novo novos nr numeração nuremberg nº não nível núcleo número números o objetivas objetivos obrigatórios obs observadas ocorrem ocorridos oferece oferecer ofertas off oficial olist on onde onix online onovo operação operações opinião opção opções organizado organizadores organizar orientação orientações original orçamento orçamentária os ostermos ostras ou ouro outras outro outros ovo pacote padrões paga pagamento pagamentos pagar pagará pagou pagseguro pague palestrantes palhaço papel papéis para parceiros parcela parceladas parcelar parcelas parcerias parnaibanas parnaíba parte participantes particulares partir passaram passo passos pastores paulo pauta país pedagogia pedaços pedido pedidos pedimos pela pelas pelo pelos penal pendências pensadores pensão pequeno pequenos percebido percepções perdas perder perecíveis performance perguntas perigos permanência permite pernambuco perto período pesar pesquisa pessoa pessoais pessoas petição peugeot peça peças piloto pirituba pix planejamento planeje planejou plano planos plataforma plus plástico pmc pode podem podendo poder poderá poema pois poli polo polos política políticas ponto pontuação populares população por porque porta portal porte porto portuguesa português positiva possui possível postos pot poucos poupança pouquinho pouso pra pragmático prazo prazos precauções precedentes precisa preciso predial prefeito prefeitura preferida preferência preliminarmente preparada presas presenciais presencial presentear preservação presos presta prestação prestes preto previdenciário previdência previsto previsão preço preços primeira primeiro primeiros primário principal principalmente princípios privacidade privada privados problema proc proceder procedimento processo processos processuais processual produtinhos produto produtor produtora produtos produzido produzidos produzir produção professor professores profissionais profissional profissionalizante profissão profundamente programa programar programas progredir projeto projetos projeção proletário promove promoção promoções pronta pronto proporcionarmos proposição proposta propriedade proprietário proteger protegidos proteja protetivas proteção protocolo prova práticas prêmio própria próprias próprio próxima próximo próximos psicologia psicopedagogia publica publicidade páscoa pós pública públicas público públicos quadrilha quais qual qualidade qualificação qualquer quando quantas quantidade quanto quarta quartas que quedas queiroz quem quer queridinhos quero questão questões quiser r reais realidade realiza realizada realizado realizados realizar realização recall recebe recebem receber receberá recebo reciclável recolhimento recomendado recomendo reconhecer reconhecimento recursos redação rede redes reduzido redução referente referência reflexão reflorestada reforma reforçar refrigerador regional registro registros região regularizar regularização reitoria relacionados relate relativas relativo relativos relatórios relação relações remoção renault renda rendimento rendimentos renovação repetitivas replay representações requer requisitos requisição reservas resfriamento resgata resolva respectivas respeito responsabilidade responsável resposta ressler restante resultados retirada retire retomada retorno reuniões reutilizável revendas revisão revitaliza rio rotulagem rs rua rural rápida rápidos s saber sacola saia saiba sair sale salgado sandero sandro santana santo sapatos saúde se secretaria secretária secretários sedan sede seguem seguintes segunda segundo segura segurança seguro seis selecionadas selecionado selecione seletivo sem semana semestre sempre senai sendo sense sentença senão sequência ser serem seria serra serve servidor serviço serviços será serão sessões setor seu seus sexta seção shampoos showroom silvestres sinais sinceras sirene sistema sistemas site situação slides sobra sobre sobrestado sociais social sofre soldagem solicitação solicite solidária soma somam somente sonho sozinho sp spin sptrans ssi stein sua suas subprefeitura substituição substituto sucesso suco sudeste sujeitam summit super supera superintendência superior supermercados suplementar suprimento suspenso suspensão suv suvw sábados são série só takata também tanque tanto tarifa taxa tcc te tech tecnologia tecnologias tela telefone tem temos temperatura tempo temporada tenha tenho ter terceiros termina termos territorial terá test testes texto textos teórica tinta tintas tipo tipos todas todo todos toneladas tornar totais total totalizaram totalmente trabalahar trabalha trabalhadores trabalhe trabalhista trabalho trabalhos tracker tradução trajetória trancada tranquilidade transferir transferência transforma transitada transmissão transportes traseira trata tratados traçadas tre treinamento trf tribunais tribunal tributos trilha trilhão trilhões trimestre troca trocas trânsito três tsi tubo tudo turno turnos tutores tutoriais tão técnico término títulos tópico um uma unesc unibanco unicard unidade unidades unimar união urbana urbano urbanos us usado usem uso usp utilizar utilizará uva v vacinados vacinação vaga vagas vale valendo validação valle valor valores valorização valparaíso vapor vara varejo variar vazia vazio veicular veja velocidade vem vendas vendeu vendidas vendido ver verdadeira vereadores verificar verificação vermelha versa versátil versão verá verão vestibular vez vezes veículo veículos via viagem vida vindo virou virtual visite visual visualiza visão vitaliciedade você volante volkswagen volta voltagem voltam voltar volte vulnerabilidade várias vários várzea vão vêm vídeo web webconferência webinar wi wilhelm windows word x xtronic yara zoe º à às água área áreas é ética índice ítalo óleo órgão órgãos últimas único\n",
      "(1917,)\n"
     ]
    },
    {
     "data": {
      "text/plain": [
       "<AxesSubplot: ylabel='Frequency'>"
      ]
     },
     "execution_count": 15,
     "metadata": {},
     "output_type": "execute_result"
    },
    {
     "data": {
      "image/png": "[encoded data removed]",
      "text/plain": [
       "<Figure size 640x480 with 1 Axes>"
      ]
     },
     "metadata": {},
     "output_type": "display_data"
    }
   ],
   "source": [
    "categorias = pd.DataFrame(\" \".join(dataset['category']).split(),columns=['categorias'])\n",
    "histograma = palavras.groupby('palavras').size()\n",
    "\n",
    "print(\" \".join(histograma.index))\n",
    "\n",
    "print(histograma.shape)\n",
    "histograma.plot.hist()"
   ]
  },
  {
   "cell_type": "markdown",
   "metadata": {},
   "source": [
    "# Divide o modelo em treino e teste"
   ]
  },
  {
   "cell_type": "code",
   "execution_count": 18,
   "metadata": {},
   "outputs": [],
   "source": [
    "from sklearn.model_selection import train_test_split\n",
    "\n",
    "xtrain,xtest,ytrain,ytest = train_test_split(dataset,encoded_category,test_size=0.3)"
   ]
  },
  {
   "cell_type": "code",
   "execution_count": null,
   "metadata": {},
   "outputs": [],
   "source": [
    "ytrain"
   ]
  },
  {
   "cell_type": "markdown",
   "metadata": {},
   "source": [
    "# Cria datasets de treino e teste no formato do tensorflow"
   ]
  },
  {
   "cell_type": "code",
   "execution_count": 29,
   "metadata": {},
   "outputs": [],
   "source": [
    "import tensorflow as tf\n",
    "from tensorflow.keras.layers import TextVectorization\n",
    "\n",
    "batch_size = 32\n",
    "\n",
    "# Conjunto de treino\n",
    "tf_train = tf.data.Dataset.from_tensor_slices(\n",
    "    (tf.cast(xtrain['sentence'].values, tf.string),\n",
    "     tf.cast(ytrain, tf.float32)))\n",
    "tf_train = tf_train.batch(batch_size)\n",
    "\n",
    "# Conjunto de teste\n",
    "tf_test = tf.data.Dataset.from_tensor_slices(\n",
    "    (tf.cast(xtest['sentence'].values, tf.string),\n",
    "     tf.cast(ytest, tf.float32)))\n",
    "tf_test = tf_test.batch(batch_size)\n"
   ]
  },
  {
   "cell_type": "code",
   "execution_count": 24,
   "metadata": {},
   "outputs": [
    {
     "data": {
      "text/plain": [
       "1917"
      ]
     },
     "execution_count": 24,
     "metadata": {},
     "output_type": "execute_result"
    }
   ],
   "source": [
    "vocab_size"
   ]
  },
  {
   "cell_type": "code",
   "execution_count": 33,
   "metadata": {},
   "outputs": [
    {
     "data": {
      "text/plain": [
       "'!\"\\\\#\\\\$%\\\\&\\'\\\\(\\\\)\\\\*\\\\+,\\\\-\\\\./:;<=>\\\\?@\\\\[\\\\\\\\\\\\]\\\\^_`\\\\{\\\\|\\\\}\\\\~'"
      ]
     },
     "execution_count": 33,
     "metadata": {},
     "output_type": "execute_result"
    }
   ],
   "source": [
    "import tensorflow as tf\n",
    "import string\n",
    "import re\n",
    "\n",
    "re.escape(string.punctuation)\n",
    "#re.escape('samuel$@*é')\n",
    "\n",
    "#tf.strings.regex_replace('samuel, é lindo; maravilhoso: pq?',[',',';'],\"\")"
   ]
  },
  {
   "cell_type": "code",
   "execution_count": 37,
   "metadata": {},
   "outputs": [],
   "source": []
  },
  {
   "cell_type": "code",
   "execution_count": 38,
   "metadata": {},
   "outputs": [
    {
     "data": {
      "text/plain": [
       "<tf.Tensor: shape=(), dtype=string, numpy=b'samuel rocha silva \\xc3\\xa9 um gato ele ama animais frutas etc'>"
      ]
     },
     "execution_count": 38,
     "metadata": {},
     "output_type": "execute_result"
    }
   ],
   "source": [
    "pp.tf_text_standardization(\"Samuel Rocha silva, é um gato! Ele AMA: animais, frutas, etc!\")"
   ]
  },
  {
   "cell_type": "code",
   "execution_count": 36,
   "metadata": {},
   "outputs": [],
   "source": [
    "# Model constants.\n",
    "max_features = vocab_size\n",
    "embedding_dim = 16\n",
    "sequence_length = max_palavras\n",
    "\n",
    "vectorize_layer = TextVectorization(\n",
    "    standardize=\"lower_and_strip_punctuation\",\n",
    "    #standardize=custom_standardization,\n",
    "    max_tokens=max_features,\n",
    "    output_mode=\"int\",\n",
    "    output_sequence_length=sequence_length)"
   ]
  },
  {
   "cell_type": "markdown",
   "metadata": {},
   "source": [
    "# Cria o modelo"
   ]
  },
  {
   "cell_type": "code",
   "execution_count": 44,
   "metadata": {},
   "outputs": [],
   "source": [
    "from tensorflow.keras.layers import *\n",
    "\n",
    "input = tf.keras.Input(shape=(1,), dtype=tf.string, name='text')\n",
    "x = vectorize_layer(input)\n",
    "x = Embedding(max_features + 1, embedding_dim)(x)\n",
    "x = Dropout(0.5)(x)\n",
    "\n",
    "x = Conv1D(32, 3, padding=\"valid\", activation=\"relu\")(x)\n",
    "x = Conv1D(32, 3, padding=\"valid\", activation=\"relu\")(x)\n",
    "x = GlobalMaxPooling1D()(x)\n",
    "\n",
    "x = Dense(16, activation=\"relu\")(x)\n",
    "x = Dropout(0.5)(x)\n",
    "\n",
    "output = Dense(num_categorias, activation=\"sigmoid\")(x)\n",
    "\n",
    "model = tf.keras.Model(input, output)\n",
    "\n",
    "# Compile the model with binary crossentropy loss and an adam optimizer.\n",
    "model.compile(loss=\"binary_crossentropy\", optimizer=\"adam\", metrics=[\"accuracy\"])"
   ]
  },
  {
   "cell_type": "markdown",
   "metadata": {},
   "source": [
    "# Treina o modelo\n"
   ]
  },
  {
   "cell_type": "code",
   "execution_count": 45,
   "metadata": {},
   "outputs": [
    {
     "name": "stdout",
     "output_type": "stream",
     "text": [
      "Epoch 1/3\n"
     ]
    },
    {
     "ename": "FailedPreconditionError",
     "evalue": "Graph execution error:\n\nDetected at node 'model_5/text_vectorization_3/string_lookup_3/None_Lookup/LookupTableFindV2' defined at (most recent call last):\n    File \"e:\\miniconda3\\envs\\nlp-env\\lib\\runpy.py\", line 196, in _run_module_as_main\n      return _run_code(code, main_globals, None,\n    File \"e:\\miniconda3\\envs\\nlp-env\\lib\\runpy.py\", line 86, in _run_code\n      exec(code, run_globals)\n    File \"e:\\miniconda3\\envs\\nlp-env\\lib\\site-packages\\ipykernel_launcher.py\", line 17, in <module>\n      app.launch_new_instance()\n    File \"e:\\miniconda3\\envs\\nlp-env\\lib\\site-packages\\traitlets\\config\\application.py\", line 846, in launch_instance\n      app.start()\n    File \"e:\\miniconda3\\envs\\nlp-env\\lib\\site-packages\\ipykernel\\kernelapp.py\", line 712, in start\n      self.io_loop.start()\n    File \"e:\\miniconda3\\envs\\nlp-env\\lib\\site-packages\\tornado\\platform\\asyncio.py\", line 215, in start\n      self.asyncio_loop.run_forever()\n    File \"e:\\miniconda3\\envs\\nlp-env\\lib\\asyncio\\base_events.py\", line 600, in run_forever\n      self._run_once()\n    File \"e:\\miniconda3\\envs\\nlp-env\\lib\\asyncio\\base_events.py\", line 1896, in _run_once\n      handle._run()\n    File \"e:\\miniconda3\\envs\\nlp-env\\lib\\asyncio\\events.py\", line 80, in _run\n      self._context.run(self._callback, *self._args)\n    File \"e:\\miniconda3\\envs\\nlp-env\\lib\\site-packages\\ipykernel\\kernelbase.py\", line 510, in dispatch_queue\n      await self.process_one()\n    File \"e:\\miniconda3\\envs\\nlp-env\\lib\\site-packages\\ipykernel\\kernelbase.py\", line 499, in process_one\n      await dispatch(*args)\n    File \"e:\\miniconda3\\envs\\nlp-env\\lib\\site-packages\\ipykernel\\kernelbase.py\", line 406, in dispatch_shell\n      await result\n    File \"e:\\miniconda3\\envs\\nlp-env\\lib\\site-packages\\ipykernel\\kernelbase.py\", line 730, in execute_request\n      reply_content = await reply_content\n    File \"e:\\miniconda3\\envs\\nlp-env\\lib\\site-packages\\ipykernel\\ipkernel.py\", line 383, in do_execute\n      res = shell.run_cell(\n    File \"e:\\miniconda3\\envs\\nlp-env\\lib\\site-packages\\ipykernel\\zmqshell.py\", line 528, in run_cell\n      return super().run_cell(*args, **kwargs)\n    File \"e:\\miniconda3\\envs\\nlp-env\\lib\\site-packages\\IPython\\core\\interactiveshell.py\", line 2881, in run_cell\n      result = self._run_cell(\n    File \"e:\\miniconda3\\envs\\nlp-env\\lib\\site-packages\\IPython\\core\\interactiveshell.py\", line 2936, in _run_cell\n      return runner(coro)\n    File \"e:\\miniconda3\\envs\\nlp-env\\lib\\site-packages\\IPython\\core\\async_helpers.py\", line 129, in _pseudo_sync_runner\n      coro.send(None)\n    File \"e:\\miniconda3\\envs\\nlp-env\\lib\\site-packages\\IPython\\core\\interactiveshell.py\", line 3135, in run_cell_async\n      has_raised = await self.run_ast_nodes(code_ast.body, cell_name,\n    File \"e:\\miniconda3\\envs\\nlp-env\\lib\\site-packages\\IPython\\core\\interactiveshell.py\", line 3338, in run_ast_nodes\n      if await self.run_code(code, result, async_=asy):\n    File \"e:\\miniconda3\\envs\\nlp-env\\lib\\site-packages\\IPython\\core\\interactiveshell.py\", line 3398, in run_code\n      exec(code_obj, self.user_global_ns, self.user_ns)\n    File \"C:\\Users\\sam-r\\AppData\\Local\\Temp\\ipykernel_2428\\2830973281.py\", line 4, in <cell line: 4>\n      model.fit(tf_train,validation_data=tf_test,epochs=epochs)\n    File \"e:\\miniconda3\\envs\\nlp-env\\lib\\site-packages\\keras\\utils\\traceback_utils.py\", line 65, in error_handler\n      return fn(*args, **kwargs)\n    File \"e:\\miniconda3\\envs\\nlp-env\\lib\\site-packages\\keras\\engine\\training.py\", line 1564, in fit\n      tmp_logs = self.train_function(iterator)\n    File \"e:\\miniconda3\\envs\\nlp-env\\lib\\site-packages\\keras\\engine\\training.py\", line 1160, in train_function\n      return step_function(self, iterator)\n    File \"e:\\miniconda3\\envs\\nlp-env\\lib\\site-packages\\keras\\engine\\training.py\", line 1146, in step_function\n      outputs = model.distribute_strategy.run(run_step, args=(data,))\n    File \"e:\\miniconda3\\envs\\nlp-env\\lib\\site-packages\\keras\\engine\\training.py\", line 1135, in run_step\n      outputs = model.train_step(data)\n    File \"e:\\miniconda3\\envs\\nlp-env\\lib\\site-packages\\keras\\engine\\training.py\", line 993, in train_step\n      y_pred = self(x, training=True)\n    File \"e:\\miniconda3\\envs\\nlp-env\\lib\\site-packages\\keras\\utils\\traceback_utils.py\", line 65, in error_handler\n      return fn(*args, **kwargs)\n    File \"e:\\miniconda3\\envs\\nlp-env\\lib\\site-packages\\keras\\engine\\training.py\", line 557, in __call__\n      return super().__call__(*args, **kwargs)\n    File \"e:\\miniconda3\\envs\\nlp-env\\lib\\site-packages\\keras\\utils\\traceback_utils.py\", line 65, in error_handler\n      return fn(*args, **kwargs)\n    File \"e:\\miniconda3\\envs\\nlp-env\\lib\\site-packages\\keras\\engine\\base_layer.py\", line 1097, in __call__\n      outputs = call_fn(inputs, *args, **kwargs)\n    File \"e:\\miniconda3\\envs\\nlp-env\\lib\\site-packages\\keras\\utils\\traceback_utils.py\", line 96, in error_handler\n      return fn(*args, **kwargs)\n    File \"e:\\miniconda3\\envs\\nlp-env\\lib\\site-packages\\keras\\engine\\functional.py\", line 510, in call\n      return self._run_internal_graph(inputs, training=training, mask=mask)\n    File \"e:\\miniconda3\\envs\\nlp-env\\lib\\site-packages\\keras\\engine\\functional.py\", line 667, in _run_internal_graph\n      outputs = node.layer(*args, **kwargs)\n    File \"e:\\miniconda3\\envs\\nlp-env\\lib\\site-packages\\keras\\utils\\traceback_utils.py\", line 65, in error_handler\n      return fn(*args, **kwargs)\n    File \"e:\\miniconda3\\envs\\nlp-env\\lib\\site-packages\\keras\\engine\\base_layer.py\", line 1097, in __call__\n      outputs = call_fn(inputs, *args, **kwargs)\n    File \"e:\\miniconda3\\envs\\nlp-env\\lib\\site-packages\\keras\\utils\\traceback_utils.py\", line 96, in error_handler\n      return fn(*args, **kwargs)\n    File \"e:\\miniconda3\\envs\\nlp-env\\lib\\site-packages\\keras\\layers\\preprocessing\\text_vectorization.py\", line 610, in call\n      lookup_data = self._lookup_layer(inputs)\n    File \"e:\\miniconda3\\envs\\nlp-env\\lib\\site-packages\\keras\\utils\\traceback_utils.py\", line 65, in error_handler\n      return fn(*args, **kwargs)\n    File \"e:\\miniconda3\\envs\\nlp-env\\lib\\site-packages\\keras\\engine\\base_layer.py\", line 1097, in __call__\n      outputs = call_fn(inputs, *args, **kwargs)\n    File \"e:\\miniconda3\\envs\\nlp-env\\lib\\site-packages\\keras\\utils\\traceback_utils.py\", line 96, in error_handler\n      return fn(*args, **kwargs)\n    File \"e:\\miniconda3\\envs\\nlp-env\\lib\\site-packages\\keras\\layers\\preprocessing\\index_lookup.py\", line 743, in call\n      lookups = tf.ragged.map_flat_values(self._lookup_dense, inputs)\n    File \"e:\\miniconda3\\envs\\nlp-env\\lib\\site-packages\\keras\\layers\\preprocessing\\index_lookup.py\", line 781, in _lookup_dense\n      lookups = self.lookup_table.lookup(inputs)\nNode: 'model_5/text_vectorization_3/string_lookup_3/None_Lookup/LookupTableFindV2'\nDetected at node 'model_5/text_vectorization_3/string_lookup_3/None_Lookup/LookupTableFindV2' defined at (most recent call last):\n    File \"e:\\miniconda3\\envs\\nlp-env\\lib\\runpy.py\", line 196, in _run_module_as_main\n      return _run_code(code, main_globals, None,\n    File \"e:\\miniconda3\\envs\\nlp-env\\lib\\runpy.py\", line 86, in _run_code\n      exec(code, run_globals)\n    File \"e:\\miniconda3\\envs\\nlp-env\\lib\\site-packages\\ipykernel_launcher.py\", line 17, in <module>\n      app.launch_new_instance()\n    File \"e:\\miniconda3\\envs\\nlp-env\\lib\\site-packages\\traitlets\\config\\application.py\", line 846, in launch_instance\n      app.start()\n    File \"e:\\miniconda3\\envs\\nlp-env\\lib\\site-packages\\ipykernel\\kernelapp.py\", line 712, in start\n      self.io_loop.start()\n    File \"e:\\miniconda3\\envs\\nlp-env\\lib\\site-packages\\tornado\\platform\\asyncio.py\", line 215, in start\n      self.asyncio_loop.run_forever()\n    File \"e:\\miniconda3\\envs\\nlp-env\\lib\\asyncio\\base_events.py\", line 600, in run_forever\n      self._run_once()\n    File \"e:\\miniconda3\\envs\\nlp-env\\lib\\asyncio\\base_events.py\", line 1896, in _run_once\n      handle._run()\n    File \"e:\\miniconda3\\envs\\nlp-env\\lib\\asyncio\\events.py\", line 80, in _run\n      self._context.run(self._callback, *self._args)\n    File \"e:\\miniconda3\\envs\\nlp-env\\lib\\site-packages\\ipykernel\\kernelbase.py\", line 510, in dispatch_queue\n      await self.process_one()\n    File \"e:\\miniconda3\\envs\\nlp-env\\lib\\site-packages\\ipykernel\\kernelbase.py\", line 499, in process_one\n      await dispatch(*args)\n    File \"e:\\miniconda3\\envs\\nlp-env\\lib\\site-packages\\ipykernel\\kernelbase.py\", line 406, in dispatch_shell\n      await result\n    File \"e:\\miniconda3\\envs\\nlp-env\\lib\\site-packages\\ipykernel\\kernelbase.py\", line 730, in execute_request\n      reply_content = await reply_content\n    File \"e:\\miniconda3\\envs\\nlp-env\\lib\\site-packages\\ipykernel\\ipkernel.py\", line 383, in do_execute\n      res = shell.run_cell(\n    File \"e:\\miniconda3\\envs\\nlp-env\\lib\\site-packages\\ipykernel\\zmqshell.py\", line 528, in run_cell\n      return super().run_cell(*args, **kwargs)\n    File \"e:\\miniconda3\\envs\\nlp-env\\lib\\site-packages\\IPython\\core\\interactiveshell.py\", line 2881, in run_cell\n      result = self._run_cell(\n    File \"e:\\miniconda3\\envs\\nlp-env\\lib\\site-packages\\IPython\\core\\interactiveshell.py\", line 2936, in _run_cell\n      return runner(coro)\n    File \"e:\\miniconda3\\envs\\nlp-env\\lib\\site-packages\\IPython\\core\\async_helpers.py\", line 129, in _pseudo_sync_runner\n      coro.send(None)\n    File \"e:\\miniconda3\\envs\\nlp-env\\lib\\site-packages\\IPython\\core\\interactiveshell.py\", line 3135, in run_cell_async\n      has_raised = await self.run_ast_nodes(code_ast.body, cell_name,\n    File \"e:\\miniconda3\\envs\\nlp-env\\lib\\site-packages\\IPython\\core\\interactiveshell.py\", line 3338, in run_ast_nodes\n      if await self.run_code(code, result, async_=asy):\n    File \"e:\\miniconda3\\envs\\nlp-env\\lib\\site-packages\\IPython\\core\\interactiveshell.py\", line 3398, in run_code\n      exec(code_obj, self.user_global_ns, self.user_ns)\n    File \"C:\\Users\\sam-r\\AppData\\Local\\Temp\\ipykernel_2428\\2830973281.py\", line 4, in <cell line: 4>\n      model.fit(tf_train,validation_data=tf_test,epochs=epochs)\n    File \"e:\\miniconda3\\envs\\nlp-env\\lib\\site-packages\\keras\\utils\\traceback_utils.py\", line 65, in error_handler\n      return fn(*args, **kwargs)\n    File \"e:\\miniconda3\\envs\\nlp-env\\lib\\site-packages\\keras\\engine\\training.py\", line 1564, in fit\n      tmp_logs = self.train_function(iterator)\n    File \"e:\\miniconda3\\envs\\nlp-env\\lib\\site-packages\\keras\\engine\\training.py\", line 1160, in train_function\n      return step_function(self, iterator)\n    File \"e:\\miniconda3\\envs\\nlp-env\\lib\\site-packages\\keras\\engine\\training.py\", line 1146, in step_function\n      outputs = model.distribute_strategy.run(run_step, args=(data,))\n    File \"e:\\miniconda3\\envs\\nlp-env\\lib\\site-packages\\keras\\engine\\training.py\", line 1135, in run_step\n      outputs = model.train_step(data)\n    File \"e:\\miniconda3\\envs\\nlp-env\\lib\\site-packages\\keras\\engine\\training.py\", line 993, in train_step\n      y_pred = self(x, training=True)\n    File \"e:\\miniconda3\\envs\\nlp-env\\lib\\site-packages\\keras\\utils\\traceback_utils.py\", line 65, in error_handler\n      return fn(*args, **kwargs)\n    File \"e:\\miniconda3\\envs\\nlp-env\\lib\\site-packages\\keras\\engine\\training.py\", line 557, in __call__\n      return super().__call__(*args, **kwargs)\n    File \"e:\\miniconda3\\envs\\nlp-env\\lib\\site-packages\\keras\\utils\\traceback_utils.py\", line 65, in error_handler\n      return fn(*args, **kwargs)\n    File \"e:\\miniconda3\\envs\\nlp-env\\lib\\site-packages\\keras\\engine\\base_layer.py\", line 1097, in __call__\n      outputs = call_fn(inputs, *args, **kwargs)\n    File \"e:\\miniconda3\\envs\\nlp-env\\lib\\site-packages\\keras\\utils\\traceback_utils.py\", line 96, in error_handler\n      return fn(*args, **kwargs)\n    File \"e:\\miniconda3\\envs\\nlp-env\\lib\\site-packages\\keras\\engine\\functional.py\", line 510, in call\n      return self._run_internal_graph(inputs, training=training, mask=mask)\n    File \"e:\\miniconda3\\envs\\nlp-env\\lib\\site-packages\\keras\\engine\\functional.py\", line 667, in _run_internal_graph\n      outputs = node.layer(*args, **kwargs)\n    File \"e:\\miniconda3\\envs\\nlp-env\\lib\\site-packages\\keras\\utils\\traceback_utils.py\", line 65, in error_handler\n      return fn(*args, **kwargs)\n    File \"e:\\miniconda3\\envs\\nlp-env\\lib\\site-packages\\keras\\engine\\base_layer.py\", line 1097, in __call__\n      outputs = call_fn(inputs, *args, **kwargs)\n    File \"e:\\miniconda3\\envs\\nlp-env\\lib\\site-packages\\keras\\utils\\traceback_utils.py\", line 96, in error_handler\n      return fn(*args, **kwargs)\n    File \"e:\\miniconda3\\envs\\nlp-env\\lib\\site-packages\\keras\\layers\\preprocessing\\text_vectorization.py\", line 610, in call\n      lookup_data = self._lookup_layer(inputs)\n    File \"e:\\miniconda3\\envs\\nlp-env\\lib\\site-packages\\keras\\utils\\traceback_utils.py\", line 65, in error_handler\n      return fn(*args, **kwargs)\n    File \"e:\\miniconda3\\envs\\nlp-env\\lib\\site-packages\\keras\\engine\\base_layer.py\", line 1097, in __call__\n      outputs = call_fn(inputs, *args, **kwargs)\n    File \"e:\\miniconda3\\envs\\nlp-env\\lib\\site-packages\\keras\\utils\\traceback_utils.py\", line 96, in error_handler\n      return fn(*args, **kwargs)\n    File \"e:\\miniconda3\\envs\\nlp-env\\lib\\site-packages\\keras\\layers\\preprocessing\\index_lookup.py\", line 743, in call\n      lookups = tf.ragged.map_flat_values(self._lookup_dense, inputs)\n    File \"e:\\miniconda3\\envs\\nlp-env\\lib\\site-packages\\keras\\layers\\preprocessing\\index_lookup.py\", line 781, in _lookup_dense\n      lookups = self.lookup_table.lookup(inputs)\nNode: 'model_5/text_vectorization_3/string_lookup_3/None_Lookup/LookupTableFindV2'\n2 root error(s) found.\n  (0) FAILED_PRECONDITION:  Table not initialized.\n\t [[{{node model_5/text_vectorization_3/string_lookup_3/None_Lookup/LookupTableFindV2}}]]\n\t [[model_5/text_vectorization_3/RaggedToTensor/RaggedTensorToTensor/_24]]\n  (1) FAILED_PRECONDITION:  Table not initialized.\n\t [[{{node model_5/text_vectorization_3/string_lookup_3/None_Lookup/LookupTableFindV2}}]]\n0 successful operations.\n0 derived errors ignored. [Op:__inference_train_function_7471]",
     "output_type": "error",
     "traceback": [
      "\u001b[1;31m---------------------------------------------------------------------------\u001b[0m",
      "\u001b[1;31mFailedPreconditionError\u001b[0m                   Traceback (most recent call last)",
      "\u001b[1;32mc:\\Doc\\HandTalk Challenge\\text-classification\\dataset_analysis.ipynb Cell 34\u001b[0m in \u001b[0;36m<cell line: 4>\u001b[1;34m()\u001b[0m\n\u001b[0;32m      <a href='vscode-notebook-cell:/c%3A/Doc/HandTalk%20Challenge/text-classification/dataset_analysis.ipynb#X43sZmlsZQ%3D%3D?line=0'>1</a>\u001b[0m epochs \u001b[39m=\u001b[39m \u001b[39m3\u001b[39m\n\u001b[0;32m      <a href='vscode-notebook-cell:/c%3A/Doc/HandTalk%20Challenge/text-classification/dataset_analysis.ipynb#X43sZmlsZQ%3D%3D?line=2'>3</a>\u001b[0m \u001b[39m# Fit the model using the train and test datasets.\u001b[39;00m\n\u001b[1;32m----> <a href='vscode-notebook-cell:/c%3A/Doc/HandTalk%20Challenge/text-classification/dataset_analysis.ipynb#X43sZmlsZQ%3D%3D?line=3'>4</a>\u001b[0m model\u001b[39m.\u001b[39;49mfit(tf_train,validation_data\u001b[39m=\u001b[39;49mtf_test,epochs\u001b[39m=\u001b[39;49mepochs)\n",
      "File \u001b[1;32me:\\miniconda3\\envs\\nlp-env\\lib\\site-packages\\keras\\utils\\traceback_utils.py:70\u001b[0m, in \u001b[0;36mfilter_traceback.<locals>.error_handler\u001b[1;34m(*args, **kwargs)\u001b[0m\n\u001b[0;32m     67\u001b[0m     filtered_tb \u001b[39m=\u001b[39m _process_traceback_frames(e\u001b[39m.\u001b[39m__traceback__)\n\u001b[0;32m     68\u001b[0m     \u001b[39m# To get the full stack trace, call:\u001b[39;00m\n\u001b[0;32m     69\u001b[0m     \u001b[39m# `tf.debugging.disable_traceback_filtering()`\u001b[39;00m\n\u001b[1;32m---> 70\u001b[0m     \u001b[39mraise\u001b[39;00m e\u001b[39m.\u001b[39mwith_traceback(filtered_tb) \u001b[39mfrom\u001b[39;00m \u001b[39mNone\u001b[39m\n\u001b[0;32m     71\u001b[0m \u001b[39mfinally\u001b[39;00m:\n\u001b[0;32m     72\u001b[0m     \u001b[39mdel\u001b[39;00m filtered_tb\n",
      "File \u001b[1;32me:\\miniconda3\\envs\\nlp-env\\lib\\site-packages\\tensorflow\\python\\eager\\execute.py:54\u001b[0m, in \u001b[0;36mquick_execute\u001b[1;34m(op_name, num_outputs, inputs, attrs, ctx, name)\u001b[0m\n\u001b[0;32m     52\u001b[0m \u001b[39mtry\u001b[39;00m:\n\u001b[0;32m     53\u001b[0m   ctx\u001b[39m.\u001b[39mensure_initialized()\n\u001b[1;32m---> 54\u001b[0m   tensors \u001b[39m=\u001b[39m pywrap_tfe\u001b[39m.\u001b[39mTFE_Py_Execute(ctx\u001b[39m.\u001b[39m_handle, device_name, op_name,\n\u001b[0;32m     55\u001b[0m                                       inputs, attrs, num_outputs)\n\u001b[0;32m     56\u001b[0m \u001b[39mexcept\u001b[39;00m core\u001b[39m.\u001b[39m_NotOkStatusException \u001b[39mas\u001b[39;00m e:\n\u001b[0;32m     57\u001b[0m   \u001b[39mif\u001b[39;00m name \u001b[39mis\u001b[39;00m \u001b[39mnot\u001b[39;00m \u001b[39mNone\u001b[39;00m:\n",
      "\u001b[1;31mFailedPreconditionError\u001b[0m: Graph execution error:\n\nDetected at node 'model_5/text_vectorization_3/string_lookup_3/None_Lookup/LookupTableFindV2' defined at (most recent call last):\n    File \"e:\\miniconda3\\envs\\nlp-env\\lib\\runpy.py\", line 196, in _run_module_as_main\n      return _run_code(code, main_globals, None,\n    File \"e:\\miniconda3\\envs\\nlp-env\\lib\\runpy.py\", line 86, in _run_code\n      exec(code, run_globals)\n    File \"e:\\miniconda3\\envs\\nlp-env\\lib\\site-packages\\ipykernel_launcher.py\", line 17, in <module>\n      app.launch_new_instance()\n    File \"e:\\miniconda3\\envs\\nlp-env\\lib\\site-packages\\traitlets\\config\\application.py\", line 846, in launch_instance\n      app.start()\n    File \"e:\\miniconda3\\envs\\nlp-env\\lib\\site-packages\\ipykernel\\kernelapp.py\", line 712, in start\n      self.io_loop.start()\n    File \"e:\\miniconda3\\envs\\nlp-env\\lib\\site-packages\\tornado\\platform\\asyncio.py\", line 215, in start\n      self.asyncio_loop.run_forever()\n    File \"e:\\miniconda3\\envs\\nlp-env\\lib\\asyncio\\base_events.py\", line 600, in run_forever\n      self._run_once()\n    File \"e:\\miniconda3\\envs\\nlp-env\\lib\\asyncio\\base_events.py\", line 1896, in _run_once\n      handle._run()\n    File \"e:\\miniconda3\\envs\\nlp-env\\lib\\asyncio\\events.py\", line 80, in _run\n      self._context.run(self._callback, *self._args)\n    File \"e:\\miniconda3\\envs\\nlp-env\\lib\\site-packages\\ipykernel\\kernelbase.py\", line 510, in dispatch_queue\n      await self.process_one()\n    File \"e:\\miniconda3\\envs\\nlp-env\\lib\\site-packages\\ipykernel\\kernelbase.py\", line 499, in process_one\n      await dispatch(*args)\n    File \"e:\\miniconda3\\envs\\nlp-env\\lib\\site-packages\\ipykernel\\kernelbase.py\", line 406, in dispatch_shell\n      await result\n    File \"e:\\miniconda3\\envs\\nlp-env\\lib\\site-packages\\ipykernel\\kernelbase.py\", line 730, in execute_request\n      reply_content = await reply_content\n    File \"e:\\miniconda3\\envs\\nlp-env\\lib\\site-packages\\ipykernel\\ipkernel.py\", line 383, in do_execute\n      res = shell.run_cell(\n    File \"e:\\miniconda3\\envs\\nlp-env\\lib\\site-packages\\ipykernel\\zmqshell.py\", line 528, in run_cell\n      return super().run_cell(*args, **kwargs)\n    File \"e:\\miniconda3\\envs\\nlp-env\\lib\\site-packages\\IPython\\core\\interactiveshell.py\", line 2881, in run_cell\n      result = self._run_cell(\n    File \"e:\\miniconda3\\envs\\nlp-env\\lib\\site-packages\\IPython\\core\\interactiveshell.py\", line 2936, in _run_cell\n      return runner(coro)\n    File \"e:\\miniconda3\\envs\\nlp-env\\lib\\site-packages\\IPython\\core\\async_helpers.py\", line 129, in _pseudo_sync_runner\n      coro.send(None)\n    File \"e:\\miniconda3\\envs\\nlp-env\\lib\\site-packages\\IPython\\core\\interactiveshell.py\", line 3135, in run_cell_async\n      has_raised = await self.run_ast_nodes(code_ast.body, cell_name,\n    File \"e:\\miniconda3\\envs\\nlp-env\\lib\\site-packages\\IPython\\core\\interactiveshell.py\", line 3338, in run_ast_nodes\n      if await self.run_code(code, result, async_=asy):\n    File \"e:\\miniconda3\\envs\\nlp-env\\lib\\site-packages\\IPython\\core\\interactiveshell.py\", line 3398, in run_code\n      exec(code_obj, self.user_global_ns, self.user_ns)\n    File \"C:\\Users\\sam-r\\AppData\\Local\\Temp\\ipykernel_2428\\2830973281.py\", line 4, in <cell line: 4>\n      model.fit(tf_train,validation_data=tf_test,epochs=epochs)\n    File \"e:\\miniconda3\\envs\\nlp-env\\lib\\site-packages\\keras\\utils\\traceback_utils.py\", line 65, in error_handler\n      return fn(*args, **kwargs)\n    File \"e:\\miniconda3\\envs\\nlp-env\\lib\\site-packages\\keras\\engine\\training.py\", line 1564, in fit\n      tmp_logs = self.train_function(iterator)\n    File \"e:\\miniconda3\\envs\\nlp-env\\lib\\site-packages\\keras\\engine\\training.py\", line 1160, in train_function\n      return step_function(self, iterator)\n    File \"e:\\miniconda3\\envs\\nlp-env\\lib\\site-packages\\keras\\engine\\training.py\", line 1146, in step_function\n      outputs = model.distribute_strategy.run(run_step, args=(data,))\n    File \"e:\\miniconda3\\envs\\nlp-env\\lib\\site-packages\\keras\\engine\\training.py\", line 1135, in run_step\n      outputs = model.train_step(data)\n    File \"e:\\miniconda3\\envs\\nlp-env\\lib\\site-packages\\keras\\engine\\training.py\", line 993, in train_step\n      y_pred = self(x, training=True)\n    File \"e:\\miniconda3\\envs\\nlp-env\\lib\\site-packages\\keras\\utils\\traceback_utils.py\", line 65, in error_handler\n      return fn(*args, **kwargs)\n    File \"e:\\miniconda3\\envs\\nlp-env\\lib\\site-packages\\keras\\engine\\training.py\", line 557, in __call__\n      return super().__call__(*args, **kwargs)\n    File \"e:\\miniconda3\\envs\\nlp-env\\lib\\site-packages\\keras\\utils\\traceback_utils.py\", line 65, in error_handler\n      return fn(*args, **kwargs)\n    File \"e:\\miniconda3\\envs\\nlp-env\\lib\\site-packages\\keras\\engine\\base_layer.py\", line 1097, in __call__\n      outputs = call_fn(inputs, *args, **kwargs)\n    File \"e:\\miniconda3\\envs\\nlp-env\\lib\\site-packages\\keras\\utils\\traceback_utils.py\", line 96, in error_handler\n      return fn(*args, **kwargs)\n    File \"e:\\miniconda3\\envs\\nlp-env\\lib\\site-packages\\keras\\engine\\functional.py\", line 510, in call\n      return self._run_internal_graph(inputs, training=training, mask=mask)\n    File \"e:\\miniconda3\\envs\\nlp-env\\lib\\site-packages\\keras\\engine\\functional.py\", line 667, in _run_internal_graph\n      outputs = node.layer(*args, **kwargs)\n    File \"e:\\miniconda3\\envs\\nlp-env\\lib\\site-packages\\keras\\utils\\traceback_utils.py\", line 65, in error_handler\n      return fn(*args, **kwargs)\n    File \"e:\\miniconda3\\envs\\nlp-env\\lib\\site-packages\\keras\\engine\\base_layer.py\", line 1097, in __call__\n      outputs = call_fn(inputs, *args, **kwargs)\n    File \"e:\\miniconda3\\envs\\nlp-env\\lib\\site-packages\\keras\\utils\\traceback_utils.py\", line 96, in error_handler\n      return fn(*args, **kwargs)\n    File \"e:\\miniconda3\\envs\\nlp-env\\lib\\site-packages\\keras\\layers\\preprocessing\\text_vectorization.py\", line 610, in call\n      lookup_data = self._lookup_layer(inputs)\n    File \"e:\\miniconda3\\envs\\nlp-env\\lib\\site-packages\\keras\\utils\\traceback_utils.py\", line 65, in error_handler\n      return fn(*args, **kwargs)\n    File \"e:\\miniconda3\\envs\\nlp-env\\lib\\site-packages\\keras\\engine\\base_layer.py\", line 1097, in __call__\n      outputs = call_fn(inputs, *args, **kwargs)\n    File \"e:\\miniconda3\\envs\\nlp-env\\lib\\site-packages\\keras\\utils\\traceback_utils.py\", line 96, in error_handler\n      return fn(*args, **kwargs)\n    File \"e:\\miniconda3\\envs\\nlp-env\\lib\\site-packages\\keras\\layers\\preprocessing\\index_lookup.py\", line 743, in call\n      lookups = tf.ragged.map_flat_values(self._lookup_dense, inputs)\n    File \"e:\\miniconda3\\envs\\nlp-env\\lib\\site-packages\\keras\\layers\\preprocessing\\index_lookup.py\", line 781, in _lookup_dense\n      lookups = self.lookup_table.lookup(inputs)\nNode: 'model_5/text_vectorization_3/string_lookup_3/None_Lookup/LookupTableFindV2'\nDetected at node 'model_5/text_vectorization_3/string_lookup_3/None_Lookup/LookupTableFindV2' defined at (most recent call last):\n    File \"e:\\miniconda3\\envs\\nlp-env\\lib\\runpy.py\", line 196, in _run_module_as_main\n      return _run_code(code, main_globals, None,\n    File \"e:\\miniconda3\\envs\\nlp-env\\lib\\runpy.py\", line 86, in _run_code\n      exec(code, run_globals)\n    File \"e:\\miniconda3\\envs\\nlp-env\\lib\\site-packages\\ipykernel_launcher.py\", line 17, in <module>\n      app.launch_new_instance()\n    File \"e:\\miniconda3\\envs\\nlp-env\\lib\\site-packages\\traitlets\\config\\application.py\", line 846, in launch_instance\n      app.start()\n    File \"e:\\miniconda3\\envs\\nlp-env\\lib\\site-packages\\ipykernel\\kernelapp.py\", line 712, in start\n      self.io_loop.start()\n    File \"e:\\miniconda3\\envs\\nlp-env\\lib\\site-packages\\tornado\\platform\\asyncio.py\", line 215, in start\n      self.asyncio_loop.run_forever()\n    File \"e:\\miniconda3\\envs\\nlp-env\\lib\\asyncio\\base_events.py\", line 600, in run_forever\n      self._run_once()\n    File \"e:\\miniconda3\\envs\\nlp-env\\lib\\asyncio\\base_events.py\", line 1896, in _run_once\n      handle._run()\n    File \"e:\\miniconda3\\envs\\nlp-env\\lib\\asyncio\\events.py\", line 80, in _run\n      self._context.run(self._callback, *self._args)\n    File \"e:\\miniconda3\\envs\\nlp-env\\lib\\site-packages\\ipykernel\\kernelbase.py\", line 510, in dispatch_queue\n      await self.process_one()\n    File \"e:\\miniconda3\\envs\\nlp-env\\lib\\site-packages\\ipykernel\\kernelbase.py\", line 499, in process_one\n      await dispatch(*args)\n    File \"e:\\miniconda3\\envs\\nlp-env\\lib\\site-packages\\ipykernel\\kernelbase.py\", line 406, in dispatch_shell\n      await result\n    File \"e:\\miniconda3\\envs\\nlp-env\\lib\\site-packages\\ipykernel\\kernelbase.py\", line 730, in execute_request\n      reply_content = await reply_content\n    File \"e:\\miniconda3\\envs\\nlp-env\\lib\\site-packages\\ipykernel\\ipkernel.py\", line 383, in do_execute\n      res = shell.run_cell(\n    File \"e:\\miniconda3\\envs\\nlp-env\\lib\\site-packages\\ipykernel\\zmqshell.py\", line 528, in run_cell\n      return super().run_cell(*args, **kwargs)\n    File \"e:\\miniconda3\\envs\\nlp-env\\lib\\site-packages\\IPython\\core\\interactiveshell.py\", line 2881, in run_cell\n      result = self._run_cell(\n    File \"e:\\miniconda3\\envs\\nlp-env\\lib\\site-packages\\IPython\\core\\interactiveshell.py\", line 2936, in _run_cell\n      return runner(coro)\n    File \"e:\\miniconda3\\envs\\nlp-env\\lib\\site-packages\\IPython\\core\\async_helpers.py\", line 129, in _pseudo_sync_runner\n      coro.send(None)\n    File \"e:\\miniconda3\\envs\\nlp-env\\lib\\site-packages\\IPython\\core\\interactiveshell.py\", line 3135, in run_cell_async\n      has_raised = await self.run_ast_nodes(code_ast.body, cell_name,\n    File \"e:\\miniconda3\\envs\\nlp-env\\lib\\site-packages\\IPython\\core\\interactiveshell.py\", line 3338, in run_ast_nodes\n      if await self.run_code(code, result, async_=asy):\n    File \"e:\\miniconda3\\envs\\nlp-env\\lib\\site-packages\\IPython\\core\\interactiveshell.py\", line 3398, in run_code\n      exec(code_obj, self.user_global_ns, self.user_ns)\n    File \"C:\\Users\\sam-r\\AppData\\Local\\Temp\\ipykernel_2428\\2830973281.py\", line 4, in <cell line: 4>\n      model.fit(tf_train,validation_data=tf_test,epochs=epochs)\n    File \"e:\\miniconda3\\envs\\nlp-env\\lib\\site-packages\\keras\\utils\\traceback_utils.py\", line 65, in error_handler\n      return fn(*args, **kwargs)\n    File \"e:\\miniconda3\\envs\\nlp-env\\lib\\site-packages\\keras\\engine\\training.py\", line 1564, in fit\n      tmp_logs = self.train_function(iterator)\n    File \"e:\\miniconda3\\envs\\nlp-env\\lib\\site-packages\\keras\\engine\\training.py\", line 1160, in train_function\n      return step_function(self, iterator)\n    File \"e:\\miniconda3\\envs\\nlp-env\\lib\\site-packages\\keras\\engine\\training.py\", line 1146, in step_function\n      outputs = model.distribute_strategy.run(run_step, args=(data,))\n    File \"e:\\miniconda3\\envs\\nlp-env\\lib\\site-packages\\keras\\engine\\training.py\", line 1135, in run_step\n      outputs = model.train_step(data)\n    File \"e:\\miniconda3\\envs\\nlp-env\\lib\\site-packages\\keras\\engine\\training.py\", line 993, in train_step\n      y_pred = self(x, training=True)\n    File \"e:\\miniconda3\\envs\\nlp-env\\lib\\site-packages\\keras\\utils\\traceback_utils.py\", line 65, in error_handler\n      return fn(*args, **kwargs)\n    File \"e:\\miniconda3\\envs\\nlp-env\\lib\\site-packages\\keras\\engine\\training.py\", line 557, in __call__\n      return super().__call__(*args, **kwargs)\n    File \"e:\\miniconda3\\envs\\nlp-env\\lib\\site-packages\\keras\\utils\\traceback_utils.py\", line 65, in error_handler\n      return fn(*args, **kwargs)\n    File \"e:\\miniconda3\\envs\\nlp-env\\lib\\site-packages\\keras\\engine\\base_layer.py\", line 1097, in __call__\n      outputs = call_fn(inputs, *args, **kwargs)\n    File \"e:\\miniconda3\\envs\\nlp-env\\lib\\site-packages\\keras\\utils\\traceback_utils.py\", line 96, in error_handler\n      return fn(*args, **kwargs)\n    File \"e:\\miniconda3\\envs\\nlp-env\\lib\\site-packages\\keras\\engine\\functional.py\", line 510, in call\n      return self._run_internal_graph(inputs, training=training, mask=mask)\n    File \"e:\\miniconda3\\envs\\nlp-env\\lib\\site-packages\\keras\\engine\\functional.py\", line 667, in _run_internal_graph\n      outputs = node.layer(*args, **kwargs)\n    File \"e:\\miniconda3\\envs\\nlp-env\\lib\\site-packages\\keras\\utils\\traceback_utils.py\", line 65, in error_handler\n      return fn(*args, **kwargs)\n    File \"e:\\miniconda3\\envs\\nlp-env\\lib\\site-packages\\keras\\engine\\base_layer.py\", line 1097, in __call__\n      outputs = call_fn(inputs, *args, **kwargs)\n    File \"e:\\miniconda3\\envs\\nlp-env\\lib\\site-packages\\keras\\utils\\traceback_utils.py\", line 96, in error_handler\n      return fn(*args, **kwargs)\n    File \"e:\\miniconda3\\envs\\nlp-env\\lib\\site-packages\\keras\\layers\\preprocessing\\text_vectorization.py\", line 610, in call\n      lookup_data = self._lookup_layer(inputs)\n    File \"e:\\miniconda3\\envs\\nlp-env\\lib\\site-packages\\keras\\utils\\traceback_utils.py\", line 65, in error_handler\n      return fn(*args, **kwargs)\n    File \"e:\\miniconda3\\envs\\nlp-env\\lib\\site-packages\\keras\\engine\\base_layer.py\", line 1097, in __call__\n      outputs = call_fn(inputs, *args, **kwargs)\n    File \"e:\\miniconda3\\envs\\nlp-env\\lib\\site-packages\\keras\\utils\\traceback_utils.py\", line 96, in error_handler\n      return fn(*args, **kwargs)\n    File \"e:\\miniconda3\\envs\\nlp-env\\lib\\site-packages\\keras\\layers\\preprocessing\\index_lookup.py\", line 743, in call\n      lookups = tf.ragged.map_flat_values(self._lookup_dense, inputs)\n    File \"e:\\miniconda3\\envs\\nlp-env\\lib\\site-packages\\keras\\layers\\preprocessing\\index_lookup.py\", line 781, in _lookup_dense\n      lookups = self.lookup_table.lookup(inputs)\nNode: 'model_5/text_vectorization_3/string_lookup_3/None_Lookup/LookupTableFindV2'\n2 root error(s) found.\n  (0) FAILED_PRECONDITION:  Table not initialized.\n\t [[{{node model_5/text_vectorization_3/string_lookup_3/None_Lookup/LookupTableFindV2}}]]\n\t [[model_5/text_vectorization_3/RaggedToTensor/RaggedTensorToTensor/_24]]\n  (1) FAILED_PRECONDITION:  Table not initialized.\n\t [[{{node model_5/text_vectorization_3/string_lookup_3/None_Lookup/LookupTableFindV2}}]]\n0 successful operations.\n0 derived errors ignored. [Op:__inference_train_function_7471]"
     ]
    }
   ],
   "source": [
    "epochs = 3\n",
    "\n",
    "# Fit the model using the train and test datasets.\n",
    "model.fit(tf_train,validation_data=tf_test,epochs=epochs)\n"
   ]
  },
  {
   "cell_type": "code",
   "execution_count": 3,
   "metadata": {},
   "outputs": [],
   "source": [
    "acertos_apostador = [[3,\"b\"],[3,\"a\"],[1,\"c\"],[2,\"d\"]]"
   ]
  },
  {
   "cell_type": "code",
   "execution_count": 4,
   "metadata": {},
   "outputs": [
    {
     "data": {
      "text/plain": [
       "[[1, 'c'], [2, 'd'], [3, 'a'], [3, 'b']]"
      ]
     },
     "execution_count": 4,
     "metadata": {},
     "output_type": "execute_result"
    }
   ],
   "source": [
    "sorted(acertos_apostador)"
   ]
  },
  {
   "cell_type": "markdown",
   "metadata": {},
   "source": [
    "# Testes"
   ]
  },
  {
   "cell_type": "code",
   "execution_count": 11,
   "metadata": {},
   "outputs": [],
   "source": [
    "import pandas as pd\n",
    "import preprocessing as pp\n",
    "\n",
    "dataset = pd.read_csv('dataset.csv')\n",
    "\n",
    "#dataset.head(20)\n",
    "\n",
    "text = pp.tf_text_standardization(dataset['sentence'])\n",
    "#print([x.decode() for x in text.numpy()])\n",
    "\n",
    "stats = pp.tf_text_statistics(text)\n",
    "\n",
    "df_stats = pd.DataFrame(stats['vocab_freq'],index=decode_strings(stats['vocab']),columns=['freq'])\n"
   ]
  },
  {
   "cell_type": "code",
   "execution_count": 23,
   "metadata": {},
   "outputs": [
    {
     "data": {
      "text/plain": [
       "freq    1\n",
       "Name: reforma, dtype: int32"
      ]
     },
     "execution_count": 23,
     "metadata": {},
     "output_type": "execute_result"
    }
   ],
   "source": [
    "df_stats.loc['reforma']"
   ]
  },
  {
   "cell_type": "code",
   "execution_count": 15,
   "metadata": {},
   "outputs": [
    {
     "name": "stdout",
     "output_type": "stream",
     "text": [
      "portuguÊs\n",
      "porta\n",
      "porte\n",
      "transportes\n",
      "importante\n",
      "portuguesa\n",
      "esportividade\n",
      "portal\n",
      "exportadora\n",
      "porto\n",
      "importância\n"
     ]
    }
   ],
   "source": [
    "for x in df_stats.index:\n",
    "    if 'port' in x:\n",
    "        print(x)"
   ]
  },
  {
   "cell_type": "code",
   "execution_count": 26,
   "metadata": {},
   "outputs": [
    {
     "data": {
      "text/html": [
       "<div>\n",
       "<style scoped>\n",
       "    .dataframe tbody tr th:only-of-type {\n",
       "        vertical-align: middle;\n",
       "    }\n",
       "\n",
       "    .dataframe tbody tr th {\n",
       "        vertical-align: top;\n",
       "    }\n",
       "\n",
       "    .dataframe thead th {\n",
       "        text-align: right;\n",
       "    }\n",
       "</style>\n",
       "<table border=\"1\" class=\"dataframe\">\n",
       "  <thead>\n",
       "    <tr style=\"text-align: right;\">\n",
       "      <th></th>\n",
       "      <th>freq</th>\n",
       "    </tr>\n",
       "  </thead>\n",
       "  <tbody>\n",
       "    <tr>\n",
       "      <th>valor</th>\n",
       "      <td>11</td>\n",
       "    </tr>\n",
       "    <tr>\n",
       "      <th>municipal</th>\n",
       "      <td>11</td>\n",
       "    </tr>\n",
       "    <tr>\n",
       "      <th>brasil</th>\n",
       "      <td>11</td>\n",
       "    </tr>\n",
       "    <tr>\n",
       "      <th>processo</th>\n",
       "      <td>11</td>\n",
       "    </tr>\n",
       "    <tr>\n",
       "      <th>suas</th>\n",
       "      <td>11</td>\n",
       "    </tr>\n",
       "    <tr>\n",
       "      <th>crédito</th>\n",
       "      <td>12</td>\n",
       "    </tr>\n",
       "    <tr>\n",
       "      <th>chevrolet</th>\n",
       "      <td>12</td>\n",
       "    </tr>\n",
       "    <tr>\n",
       "      <th>até</th>\n",
       "      <td>12</td>\n",
       "    </tr>\n",
       "    <tr>\n",
       "      <th>inscrições</th>\n",
       "      <td>12</td>\n",
       "    </tr>\n",
       "    <tr>\n",
       "      <th>2021</th>\n",
       "      <td>12</td>\n",
       "    </tr>\n",
       "    <tr>\n",
       "      <th>compra</th>\n",
       "      <td>12</td>\n",
       "    </tr>\n",
       "    <tr>\n",
       "      <th>selecione</th>\n",
       "      <td>12</td>\n",
       "    </tr>\n",
       "    <tr>\n",
       "      <th>prefeitura</th>\n",
       "      <td>13</td>\n",
       "    </tr>\n",
       "    <tr>\n",
       "      <th>ser</th>\n",
       "      <td>13</td>\n",
       "    </tr>\n",
       "    <tr>\n",
       "      <th>das</th>\n",
       "      <td>13</td>\n",
       "    </tr>\n",
       "    <tr>\n",
       "      <th>nissan</th>\n",
       "      <td>14</td>\n",
       "    </tr>\n",
       "    <tr>\n",
       "      <th>um</th>\n",
       "      <td>14</td>\n",
       "    </tr>\n",
       "    <tr>\n",
       "      <th>cartão</th>\n",
       "      <td>15</td>\n",
       "    </tr>\n",
       "    <tr>\n",
       "      <th>como</th>\n",
       "      <td>15</td>\n",
       "    </tr>\n",
       "    <tr>\n",
       "      <th>curso</th>\n",
       "      <td>15</td>\n",
       "    </tr>\n",
       "    <tr>\n",
       "      <th>são</th>\n",
       "      <td>15</td>\n",
       "    </tr>\n",
       "    <tr>\n",
       "      <th>novo</th>\n",
       "      <td>18</td>\n",
       "    </tr>\n",
       "    <tr>\n",
       "      <th>ao</th>\n",
       "      <td>18</td>\n",
       "    </tr>\n",
       "    <tr>\n",
       "      <th>dos</th>\n",
       "      <td>20</td>\n",
       "    </tr>\n",
       "    <tr>\n",
       "      <th>se</th>\n",
       "      <td>20</td>\n",
       "    </tr>\n",
       "    <tr>\n",
       "      <th>ou</th>\n",
       "      <td>23</td>\n",
       "    </tr>\n",
       "    <tr>\n",
       "      <th>sua</th>\n",
       "      <td>23</td>\n",
       "    </tr>\n",
       "    <tr>\n",
       "      <th>uma</th>\n",
       "      <td>23</td>\n",
       "    </tr>\n",
       "    <tr>\n",
       "      <th>as</th>\n",
       "      <td>24</td>\n",
       "    </tr>\n",
       "    <tr>\n",
       "      <th>r</th>\n",
       "      <td>24</td>\n",
       "    </tr>\n",
       "    <tr>\n",
       "      <th>carro</th>\n",
       "      <td>26</td>\n",
       "    </tr>\n",
       "    <tr>\n",
       "      <th>você</th>\n",
       "      <td>27</td>\n",
       "    </tr>\n",
       "    <tr>\n",
       "      <th>mais</th>\n",
       "      <td>27</td>\n",
       "    </tr>\n",
       "    <tr>\n",
       "      <th>por</th>\n",
       "      <td>28</td>\n",
       "    </tr>\n",
       "    <tr>\n",
       "      <th>que</th>\n",
       "      <td>29</td>\n",
       "    </tr>\n",
       "    <tr>\n",
       "      <th>é</th>\n",
       "      <td>30</td>\n",
       "    </tr>\n",
       "    <tr>\n",
       "      <th>os</th>\n",
       "      <td>33</td>\n",
       "    </tr>\n",
       "    <tr>\n",
       "      <th>na</th>\n",
       "      <td>39</td>\n",
       "    </tr>\n",
       "    <tr>\n",
       "      <th>seu</th>\n",
       "      <td>39</td>\n",
       "    </tr>\n",
       "    <tr>\n",
       "      <th>no</th>\n",
       "      <td>42</td>\n",
       "    </tr>\n",
       "    <tr>\n",
       "      <th>com</th>\n",
       "      <td>61</td>\n",
       "    </tr>\n",
       "    <tr>\n",
       "      <th>da</th>\n",
       "      <td>74</td>\n",
       "    </tr>\n",
       "    <tr>\n",
       "      <th>em</th>\n",
       "      <td>79</td>\n",
       "    </tr>\n",
       "    <tr>\n",
       "      <th></th>\n",
       "      <td>101</td>\n",
       "    </tr>\n",
       "    <tr>\n",
       "      <th>para</th>\n",
       "      <td>102</td>\n",
       "    </tr>\n",
       "    <tr>\n",
       "      <th>a</th>\n",
       "      <td>118</td>\n",
       "    </tr>\n",
       "    <tr>\n",
       "      <th>do</th>\n",
       "      <td>121</td>\n",
       "    </tr>\n",
       "    <tr>\n",
       "      <th>o</th>\n",
       "      <td>122</td>\n",
       "    </tr>\n",
       "    <tr>\n",
       "      <th>e</th>\n",
       "      <td>161</td>\n",
       "    </tr>\n",
       "    <tr>\n",
       "      <th>de</th>\n",
       "      <td>380</td>\n",
       "    </tr>\n",
       "  </tbody>\n",
       "</table>\n",
       "</div>"
      ],
      "text/plain": [
       "            freq\n",
       "valor         11\n",
       "municipal     11\n",
       "brasil        11\n",
       "processo      11\n",
       "suas          11\n",
       "crédito       12\n",
       "chevrolet     12\n",
       "até           12\n",
       "inscrições    12\n",
       "2021          12\n",
       "compra        12\n",
       "selecione     12\n",
       "prefeitura    13\n",
       "ser           13\n",
       "das           13\n",
       "nissan        14\n",
       "um            14\n",
       "cartão        15\n",
       "como          15\n",
       "curso         15\n",
       "são           15\n",
       "novo          18\n",
       "ao            18\n",
       "dos           20\n",
       "se            20\n",
       "ou            23\n",
       "sua           23\n",
       "uma           23\n",
       "as            24\n",
       "r             24\n",
       "carro         26\n",
       "você          27\n",
       "mais          27\n",
       "por           28\n",
       "que           29\n",
       "é             30\n",
       "os            33\n",
       "na            39\n",
       "seu           39\n",
       "no            42\n",
       "com           61\n",
       "da            74\n",
       "em            79\n",
       "             101\n",
       "para         102\n",
       "a            118\n",
       "do           121\n",
       "o            122\n",
       "e            161\n",
       "de           380"
      ]
     },
     "execution_count": 26,
     "metadata": {},
     "output_type": "execute_result"
    }
   ],
   "source": [
    "df_stats.sort_values('freq').tail(50)\n"
   ]
  },
  {
   "cell_type": "code",
   "execution_count": 10,
   "metadata": {},
   "outputs": [],
   "source": [
    "def decode_strings(text):\n",
    "    return [x.decode() for x in text.numpy()]"
   ]
  },
  {
   "cell_type": "code",
   "execution_count": 8,
   "metadata": {},
   "outputs": [
    {
     "name": "stdout",
     "output_type": "stream",
     "text": [
      "['auxílio', 'doença', 'previdenciário', 'benefícios', 'em', 'espécie', 'e', 'direito', 'pagar', 'todas', 'as', 'contas', 'atraso', 'r129090', 'então', 'encontraremos', 'na', 'próxima', 'aula', 'veja', 'os', 'resultados', 'da', 'categoria', 'de', 'ofertas', 'do', 'novo', 'modelo', 'nissan', 'kicks', 'além', 'disso', 'a', 'embalagem', 'é', 'reutilizável', '100', 'reciclável', 'ead', 'educação', 'distância', 'você', 'tem', 'autonomia', 'para', 'organizar', 'seus', 'estudos', 'condições', 'compra', 'pensão', 'por', 'morte', 'art', '749', 'previdenciÁrio', 'primeira', 'agência', 'foi', 'aberta', '2', 'janeiro', '1945', 'localizada', 'sede', 'banco', 'valor', 'das', 'parcelas', 'lojas', 'sapatos', 'seu', 'carrinho', 'compras', 'ainda', 'está', 'vazio', 'sale', 'até', '50', 'off', 'mais', 'creme', 'mãos', 'r990', 'nas', 'acima', 'r12990', 'brk', 'ambiental', 'responsável', 'pela', 'gestão', 'dos', 'serviços', 'esgoto', 'rio', 'ostras', 'tribunal', 'regional', 'trabalho', '15ª', 'regiÃo', 'edital', '012020', 'período', 'inscrições', '12012020', '12102020', 'abertas', 'como', 'saber', 'o', 'limite', 'cartão', 'crédito', 'disponível', 'temos', 'promoções', 'imperdíveis', 'sempre', 'com', 'meus', 'conteúdos', 'te', 'ajudar', 'escolha', 'interesse', 'obs', 'se', 'houver', 'alguma', 'pendências', 'informadas', 'gentileza', 'regularizar', 'antes', 'enviar', 'tcc', 'resposta', 'alunos', 'for', 'positiva', 'professor', 'deverá', 'aprofundar', 'reflexão', 'inicial', 'complementando', 'outras', 'perguntas', 'fÓrum', 'ii', 'fonÉtica', 'fonologia', 'portuguÊs', 'conheça', 'prazos', 'editais', 'documentos', 'necessários', 'este', 'processo', 'seletivo', '18x', 'r', '7990', 'cruze', '2020', 'carro', 'sedan', 'médio', 'chevrolet', 'vem', 'aí', 'suvw', 'adquira', 'ciências', 'humanas', 'suas', 'tecnologias', 'pot', 'volta', 'às', 'aulas', 'mães', 'contratadas', 'prefeitura', 'iniciam', 'atividades', 'nesta', 'segunda', 'feira', '01', 'juntada', 'certidão', '', 'requisição', 'pagamento', 'preparada', 'transmissão', 'pode', 'transferir', 'uma', 'parte', 'cheque', 'especial', 'lis', 'marcas', 'bmw', 'renault', 'volkswagen', 'citroen', 'honda', 'fiat', 'peugeot', 'hyundai', 'estarão', 'no', 'automóvel', 'são', 'paulo', 'apoio', 'porta', 'copos', 'tracker', '2022', 'dezembro', '2013', 'ativos', 'totais', 'totalizaram', '1105', 'trilhão', 'libras', 'língua', 'brasileira', 'sinais', '—', 'usp', 'gratuito', 'sua', 'ser', 'dividida', '15', 'ou', '24', 'iguais', 'cursos', 'ssi', 'nr', '11', 'segurança', 'operação', 'empilhadeira', 'pequeno', 'porte', '5', 'anos', 'bacharelado', 'capital', 'financeiro', 'seria', 'união', 'bancário', 'monetário', 'industrial', 'pague', 'parcela', '999', 'replay', 'ajuda', 'planejamento', 'incentiva', 'disciplina', 'hábito', 'investir', '1', 'introdução', 'ao', 'windows', 'word', 'microondas', 'consul', '32', 'litros', 'cor', 'branca', 'função', 'descongelar', 'justiça', 'federal', 'passo', 'fundo', 'rs', 'condena', 'quadrilha', 'especializada', 'falsificação', 'dinheiro', 'nova', 'carteira', 'compreende', '380', 'empresas', 'que', 'somam', 'us', '14', 'trilhões', 'mercado', 'gestÃo', 'logÍstica', 'suprimento', 'infraestrutura', 'ingresso', 'desenvolver', 'nos', 'respeito', 'pelo', 'corpo', 'próprio', 'outro', 'apresentação', 'online', 'iniciais', 'ensino', 'fundamental', 'consegue', 'fazer', '12x', 'acompanhamento', 'soldagem', 'ensaio', 'visual', 'dimensional', 'vaga', 'assistente', 'logística', 'gp', 'logistica', 'transportes', 'eireli', '28012021', '02022021', 'seção', 'estão', 'disponíveis', 'orientações', 'relativas', 'formulação', 'metas', 'nacionais', 'aumentar', 'diminuir', 'adicional', 'quantas', 'vezes', 'quiser', 'manter', 'dia', 'muito', 'importante', 'garantir', 'bom', 'funcionamento', 'veículo', 'feijão', 'preto', 'marca', 'combrasil', '1998', 'r\\xa01890', 'indaiatuba', 'lamenta', 'profundamente', 'mortes', 'presta', 'sinceras', 'condolências', 'aos', 'amigos', 'familiares', 'apresentamos', 'trilha', 'aprendizagem', 'empreendedorismo', 'preços', 'especiais', 'retirada', 'loja', 'declaração', 'eletrônica', 'instituições', 'financeiras', 'des', 'if', 'produto', 'vendido', 'entregue', 'olist', 'americanas', 'garante', 'pedido', 'à', 'entrega', 'aprofundamento', 'já', 'aprendido', 'um', 'avanço', 'conhecimento', 'boleto', '88800', 'até\\xa0', '10x', '8880', 'esses', 'pagamentos', 'efetuados', 'acordo', 'critérios', 'cada', 'empresa', '120', 'horas', 'escolas', 'municipais', 'infantil', 'emeis', 'atendem', 'crianças', '4', 'meses', 'programa', 'faço', 'concorrer', 'vagas', 'estágio', 'imprimir', 'fatura', 'mail', 'etapa', 'inspetor', 'qualidade', 'via', 'infração', 'trânsito', 'linha', 'produção', 'vestibular', '2021', 'primeiro', 'semestre', 'podem', 'variar', 'conforme', 'forma', 'opção', 'fidelização', 'arte', 'física', 'geografia', 'história', 'portuguesa', 'matemática', 'informações', 'sobre', 'bolsa', 'municipal', 'criciúma', 'pmc', 'atualize', 'definições', 'esportividade', 'onix', 'supera', '25', 'milhões', 'marmitex', 'entregues', 'famílias', 'parnaibanas', 'peça', 'egressos', 'fisioterapia', 'unesc', 'assumem', 'secretários', 'saúde', 'ative', 'atitude', 'faça', 'download', 'catálogo', 'nossos', 'carros', 'hatch', 'joy', 'gente', 'aumenta', 'automaticamente', 'quando', 'estiver', 'adoção', 'portal', 'cnj', 'histÓria', 'cartÓrios', 'voltagem', 'escolhido', '110v', 'agora', 'selecione', 'estado', 'poli', 'recebe', 'investimentos', 'parcerias', 'iniciativa', 'privada', 'tenho', 'ciência', 'descritos', 'devem', 'enviados', 'efetivação', 'matrícula', 'compre', 'site', 'retire', 'máquina', 'lavar', '14kg', 'ciclo', 'lavagem', 'edredom', 'bombom', 'lacta', 'pacote', '40g', 'secretaria', 'governo', 'promove', 'webinar', 'câmara', 'Ítalo', 'comércio', 'indústria', 'agricultura', 'parceladas', 'sem', 'juros', 'tipo', 'assento', 'gostaria', 'adicionar', 'confirmada', 'citação', 'wi', 'fi', 'branco', 'summit', 'projeto', 'lei', 'nº', '3652020', 'nacional', 'suplementar', 'ans', 'acadêmico', 'deve', 'organizado', 'dentro', 'normas', 'específicas', 'aqui', 'encontra', 'tutoriais', 'configurar', 'alimentos', 'supermercados', 'pequenos', 'armazéns', 'próximos', 'casa', 'prova', 'presencial', 'será', 'realizada', 'unidade', 'estácio', 'salgado', 'filho', 'verificação', 'favor', 'marque', 'campo', 'abaixo', 'confirmar', 'dados', 'demandas', 'repetitivas', 'precedentes', 'obrigatórios', 'bnpr\\xa0justiça', 'números', 'digite', 'nome', 'rua', 'bairro', 'cep', 'buscar', 'revendas', 'próximo', 'pessoa', 'jurídica', 'formação', 'híbrido', 'pesar', 'tanto', 'bolso', 'contar', 'planos', 'intelligent', 'compare', 'outros', 'modelos', 'alerta', 'colisão', 'frontal', 'acompanhe', 'ações', 'sptrans', 'contribuem', 'promoção', 'cidadania', 'férias', 'conselho', 'setor', 'Único', 'inteira', 'r\\xa039000', 'lote', '7', 'atendimento', 'serve', 'previdência', 'social', 'excelência', 'processos', 'produtos', 'através', 'envolvimento', 'valorização', 'pessoas', 'serra', 'anuncia', 'retorno', 'fase', 'vermelha', 'plano', '09042021', 'sobra', 'mês', 'aquela', 'viagem', 'gei', 'índice', 'referência', 'não', 'usado', 'benchmark', 'data', 'autuação', 'conceitos', 'jurisdição', 'princípios', 'processuais', 'material', 'o\\xa0novo', 'zoe', 'tech', 'equipado', 'vão', 'motor', 'elétrico', 'gratuitos', 'rápidos', 'webconferência', 'reconhecimento', 'espm', 'secretÁria', 'engenharia', 'saiba', 'curso', 'inscrição', 'É', 'só', 'ir', 'caixa', 'eletrônico', 'itaú', 'conta', 'corrente', 'documento', 'oficial', 'fé', 'pública', 'formato', 'original', 'cópia', 'autenticada', 'negócios', 'cadastro', 'licitações', 'fornecedores', 'sÃo', 'josÉ', 'campos', 'ver', 'detalhes', 'agradecemos', 'pedimos', 'atente', 'prazo', 'realização', 'fábrica', 'transforma', 'projeção', 'internacional', 'clientes', 'domingo', 'aproveitar', 'negociação', 'mega', 'blue', 'friday', 'acessórios', 'vendas', 'financiamento', 'fale', 'conosco', 'busca', 'concessionária', 'localizar', 'códigos', 'ata', 'estudante', 'estudar', 'sozinho', 'contato', 'colegas', 'tutores', 'pois', 'somente', 'assim', 'terá', 'concentração', 'superintendência', 'urbanos', 'chocolate', '60', 'cacau', 'café', 'intense', '85g', 'tipos', 'polÍticas', 'internas', 'depois', 'clique', 'continuar', 'recall', 'airbags', 'takata', 'celta', 'classic', 'desodorante', 'aerossol', 'acontece', 'traseira', 'enquanto', 'visualiza', 'tudo', 'tela', '8”', 'mylink', 'planeje', 'vida', 'tranquilidade', 'proteja', 'futuro', 'garanta', 'estabilidade', 'quem', 'ama', 'cna', 'frequentes', 'todos', 'meios', 'energia', 'finalizar', 'informe', 'central', 'público', 'unibanco', 'divulga', 'segundo', 'práticas', 'contábeis', 'adotadas', 'caso', 'esteja', 'cursando', 'inclua', 'ano', 'conclusão', 'previsto', 'término', 'iptu', 'imposto', 'predial', 'territorial', 'urbano', 'extrato', 'débitos', 'pós', 'graduação', 'neste', 'artigo', 'vídeo', 'onde', 'vêm', 'lápis', 'galeria', 'fotos', 'imagens', 'ecolapis', '12', 'cores', 'bicolor', 'psicopedagogia', '760', 'tempo', 'restante', 'início', '28', 'professores', 'rede', 'ganham', 'opções', 'progredir', 'carreira', 'emissão', 'consulte', 'motivo', 'santo', 'andré', 'economiza', '750', 'mil', 'plataforma', 'digital', 'alvarás', 'suco', 'pronto', 'integral', 'pouso', 'alto', 'laranja', 'litro', 'r\\xa0929', 'redação', 'sistema', 'autônomo', 'frenagem', 'emergência', 'anti', 'kmh', 'plus', 'nossas', 'concessionárias', '2016', 'atingiu', '143', 'reais', 'maior', 'país', 'instituto', 'seguro', 'inss', 'câmbio', 'automático', 'cvt', 'xtronic', '–', 'pagará', 'tarifa', 'serviço', 'vez', 'itaÚ', 'fácil', 'poupança', 'numeração', 'rendimento', 'mensal', 'suv', 'equinox', 'documentação', 'trabalhadores', 'construção', 'civil', 'adição', 'açúcar', 'del', 'valle', 'uva', 'garrafa', 'visite', 'vereadores', 'francês', 'técnico', '24x', '13125', 'slides', 'pix', '347910', '1x', 'adicionais', 'núcleo', 'marketing', 'pesquisa', 'opinião', 'necessÁrio', 'utilizar', 'garantia', 'anticorrosÃo', 'coelho', 'leite', 'belga', 'friedel', '60g', 'proc', '125272011', 'cidadão', 'constitucional', 'acesso', 'públicas', 'estar', 'engenharias', 'administração', 'psicologia', 'publicidade', 'relações', 'internacionais', 'economia', 'contabilidade', 'entre', 'beneficiados', 'projetos', 'educacionais', 'necessário', 'justificar', 'revisão', 'basta', 'indicar', 'número', 'questão', 'considera', 'incorreta', 'li', 'aceito', 'legais', 'política', 'privacidade', 'infojobs', 'matricule', 'capacitação', '2x', '5000', 'iniciativas', 'colaboradores', 'parceiros', 'fizeram', 'diferença', 'muitas', 'materiais', 'leituras', 'bons', 'diversidades', 'políticas', 'afirmativas', 'acessar', '“remoção', 'entulho', 'pública”', 'postos', 'secretária', 'fazenda', 'esse', 'instrumento', 'possível', 'proteger', 'movimentos', 'desfavoráveis', 'taxa', 'yara', 'cultivando', 'experiências', 'nível', 'frontier', 'x', 'gear', 'cidade', 'jundiaÍ', 'coronavÍrus', 'calendÁrio', 'vacinaÇÃo', 'covid', '19', 'grupos', 'vacinados', 'formas', 'estudo', 'parcelar', 'escolher', 'melhor', 'composta', '10', 'questões', 'objetivas', 'valendo', 'ponto', 'interdisciplinar', 'i', 'legislativa', 'jurisprudência', 'corrigir', 'gratuitamente', 'eventuais', 'falhas', 'componentes', 'garantindo', 'terceiros', 'enquadrar', 'apresentar', 'comprovante', 'produtor', 'rural', 'itr', 'propriedade', 'tubo', 'combustÍvel', 'sp', 'norma', 'proteção', 'guias', 'recolhimento', 'tributos', 'reconhecer', 'evolução', 'histórico', 'filosófica', 'contextualizando', 'conceito', 'método', 'científico', 'aplicação', 'metodologia', 'científica', 'explore', 'hora', 'cláusula', 'anticorrupção', 'instrução', 'normativa', 'conjunta', 'cgesea', 'agu', 'serão', 'encerradas', 'sofre', 'impostos', 'consumidor', 'empresário', 'justifique', 'requisitos', 'camaro', 'ilhabela', '012021', '04012021', '13012021', 'inscreva', 'santana', 'parnaíba', 'mantêm', 'segura', 'gilmar', 'gomes', 'andrade', 'pauta', 'julgamento', 'proporcionarmos', 'experiência', 'relação', 'preliminarmente', 'homologada', 'n', '4322020', 'emitido', '21', 'reitoria', 'cesta', 'vazia', 'aproveite', 'pra', 'queridinhos', 'nossa', 'sandro', 'ressler', 'inicia', 'içara', 'traçadas', 'design', 'bruto', 'bonito', 'mesmo', 'duster', 'ovo', 'páscoa', '170g', '2990', 'aguarde', 'alterar', 'comprar', 'auxiliar', 'montagem', 'cabreÚvasp', '23022021', '01032021', 'candidatar', 'spin', 'activ', 'partir', 'r\\xa0107690', 'estojo', 'madeira', 'coleção', 'magnus', '30', 'kit', 'asserção', 'proposição', 'verdadeira', 'falsa', 'farol', 'neblina', 'led', 'luz', 'conversão', 'estática', 'concessão', 'pedidos', 'genéricos', 'relativos', 'treinamento', 'hoje', 'super', 'aprender', 'desde', 'primário', 'auditoria', 'custos', 'vitaliciedade', 'após', 'dois', 'exercício', 'podendo', 'perder', 'cargo', 'senão', 'sentença', 'judicial', 'transitada', 'julgado', 'relativo', 'audiência', '0022020', 'loa', 'orçamentária', 'anual', 'resolva', 'testes', 'total', 'vara', 'várzea', 'grande', 'mt', 'realiza', 'juízo', 'instrutor', 'atender', 'limpeza', 'marcar', 'peças', 'vendidas', 'receberá', 'prêmio', 'atendente', 'termos', 'deste', 'contrato', 'bioquímica', 'teórica', 'bancos', 'aprovada', 'cade', '18', 'agosto', '2010', 'internet', 'quais', 'observadas', 'preservação', 'carroceria', 'agende', 'test', 'drive', 'encontre', 'doa', 'ias', 'retomada', 'presenciais', 'apreensão', 'cnh', 'quantidade', 'ministÉrio', 'pÚblico', 'mpsp', '05012021', '11012021', 'brasil', 'dispõe', 'modernos', 'sistemas', 'bancários', 'privados', 'mundo', 'medidas', 'protetivas', 'realidade', 'trabalha', 'perigos', 'existem', 'vários', 'várias', 'etapas', 'ocorrem', 'urbana', 'senai', 'padrões', 'estabelecidos', 'manuais', 'boas', 'anunciado', 'novos', '2024', 'informativos', 'sonho', 'virou', 'moradores', 'anhanguera', 'recebem', 'escritura', 'casas', 'direitos', 'humanos', 'consistem', 'principalmente', 'tratados', 'costumes', 'bem', 'diretrizes', 'vindo', 'melhores', 'região', 'proceder', 'verificar', 'nÍvel', 'Óleo', 'solicitação', 'petição', 'referente', 'evento', 'execuÇÃocumprimento', 'sentenÇa', '32x', '16103', 'concessionÁria', 'prÓxima', 'classificação', 'energética', 'pontuação', 'máxima', 'manual', 'proprietário', 'desemprego', 'extremamente', 'elevado', 'desigualdade', 'renda', 'aproximadamente', 'igual', 'destinado', 'profissionais', 'fonoaudiologia', 'áreas', 'direcionadas', 'dólar', 'americano', 'continua', 'sendo', 'moeda', 'constitutiva', '70', 'reservas', 'poucos', 'cliques', 'emite', 'certificados', 'participantes', 'organizadores', 'palestrantes', 'autores', 'avaliadores', 'apresentadores', 'trabalhos', 'científicos', 'malas', '435', 'espaço', 'carga', 'versátil', 'exigências', 'pedaços', '679', '2602020', 'web', 'saia', 'envios', 'ci', '117gp', 'jgf2021', 'encaminhamentos', 'necessÁrios', 'nomeaÇÃo', 'servidor', 'alexandre', 'luiz', 'queiroz', 'verão', 'vale', 'fará', 'mensais', 'sirene', 'lima', 'temperatura', 'externa', '35', '°c', 'velocidade', '80', 'resfriamento', 'ar', 'condicionado', 'modo', 'eco', 'cliente', 'claro', 'descontos', 'exclusivos', 'analisa', 'representações', 'sociais', 'construções', 'identidade', 'diferentes', 'ambientes', 'inter', 'influências', 'desenvolvimento', 'humano', 'frequência', 'assinada', 'carimbada', 'instituição', 'jogo', 'amortecedores', 'dianteiro', 'logan', 'sandero', 'mensalidade', 'apenas', '48000', 'também', 'desconto', 'gratuita', 'deferida', 'emendas', 'apresentadas', 'pelos', '18122019', 'prefeito', 'joão', 'henrique', 'caldas', 'pastores', 'trata', 'paga', 'qualquer', 'momento', 'envio', 'literatura', 'espanhola', '620', 'ação', 'faz', 'revitaliza', 'conscientização', 'estude', 'transferência', 'volte', 'combina', 'suspensão', 'dirigir', 'operações', 'logísticas', 'tópico', 'espero', 'lá', 'horária', 'módulo', '14hs', 'esposa', 'maria', 'anton', 'wilhelm', 'caspar', 'faber', 'começa', 'produzir', 'stein', 'perto', 'nuremberg', 'monitoramos', 'constantemente', 'eficácia', 'relate', 'eventos', 'adversos', 'ocorridos', 'uso', 'produtos\\u200b', 'superior', 'tecnologia', 'automação', '36x', 'ter', 'guardar', 'demora', 'pouquinho', 'chegar', 'porque', 'finanças', 'análise', 'demonstrações', 'destaques', 'polo', 'versão', 'comfortline', '200', 'tsi', 'adicionado', 'sacola', 'florestas', 'próprias', 'absorvem', '900', 'toneladas', 'gás', 'carbônico', 'neutralizam', 'emissões', 'fábricas', 'concluído', 'andamento', 'trancada', 'finalizado', 'reduzido', 'controle', 'orçamento', 'iniciação', 'aperfeiçoamento', 'qualificação', 'direcionados', 'profissional', 'diversas', 'atuação', 'piloto', 'ecolápis', 'produzidos', 'reflorestada', 'metálico', 'exclusivo', 'grand', 'livina', 'substituição', 'airbag', 'motorista', 'afinal', 'estoque', 'r99', 'sudeste', 'r199', 'ganhe', 'frete', 'grátis', 'previsão', 'básica', 'emergencial', 'nota', 'texto', 'produzido', 'responsabilidade', 'gabinete', 'george', 'hato', 'relacionados', 'trf4', '8499', 'eu', 'quero', 'tenha', 'algum', 'problema', 'certificado', 'liberar', 'dip', 'seguem', 'todo', 'vapor', 'coordenadas', 'habitação', 'mesa', 'cadeira', 'monte', 'líbano', 'barbie', 'ingressos', 'meia', 'entrada', 'requer', 'validação', 'três', 'turno', 'precauções', 'permanência', 'sessões', 'Órgão', 'julgador', 'substituto', '1ª', 'capão', 'canoa', 'utilizará', 'redução', 'perdas', 'água', 'redes', 'abastecimento', 'atingimos', 'menos', 'recursos', 'focamos', 'competitividade', 'avaliação', 'contínua', 'produtora', 'exportadora', 'papéis', 'embalagens', 'fique', 'atento', 'declarar', 'termina', '31052021', 'série', 'tintas', 'preferida', 'investimento', 'bilhÃo', 'renovaÇÃo', 'gama', 'atual', 'valores', 'shampoos', 'leitura', 'poema', 'comunicado', '39000', 'pessoais', 'acadêmicos', 'cumprimento', 'contra', '5000524', '552019processo', 'v2', 'investidor', 'programar', 'objetivos', 'adicionados', 'medicina', 'mec', 'apto', 'aprendiz', 'capítulo', 'r1699', 'procedimento', 'juizado', 'cÍvel', '5002678', '9020214047121', 's10', 'high', 'country', 'ouro', 'educaÇÃo', 'livros', 'didÁticos', 'condiÇÕes', 'particulares', 'qual', 'intervalo', 'recomendado', 'troca', '54', 'consumo', 'energético', 'própria', 'amor', 'comprove', 'locador', 'legítimo', 'dono', 'apartamento', 'meio', 'ambiente', 'resgata', 'animais', 'silvestres', 'conclusos', 'decisãodespacho', 'localização', 'sair', 'porto', 'alegre', 'verá', 'local', 'selecionado', 'desafiado', 'dificuldade', 'matéria', 'educador', 'planejou', 'sequência', 'didática', 'inspirada', 'populares', 'veículos', 'orientação', 'completa', 'estuda', 'quer', 'longe', 'dias', 'escolar', 'grafite', '16', '16042021', '0959', '131', 'suspenso', 'sobrestado', 'decisão', 'aguarda', 'instância', 'rotulagem', 'veicular', 'competência', 'jef', 'benefício', 'assistencial', 'gráfica', 'confecção', 'convites', 'acompanhar', 'publica', 'cartões', 'passaram', 'contemplar', 'itaucard', 'unicard', 'hipercard', '63211', 'neutra', 'carbono', 'importância', 'manutenção', 'equipamentos', 'abre', 'profissionalizante', 'varejo', 'perecíveis', 'recomendo', '101', 'compraria', 'novamente', 'presentear', 'alguém', 'menor', 'companhias', 'aberto', '7000', 'estudam', 'unimar', 'grupo', 'assunto', 'estagiário', 'correntista', 'possui', 'pronta', 'iniciar', 'tinta', 'lavável', 'atóxica', 'compreensÃo', 'textos', 'traduÇÃo', 'lÍngua', 'emissÃo', 'carnÊ', 'adequada', '48', 'maranhão', 'implanta', 'diário', 'proletário', 'acionário', 'quanto', 'classe', 'financista', 'matriz', 'curricular', 'atualização', 'indisponível', 'rápida', 'oferece', 'inclusive', 'oferecer', 'incríveis', 'produtinhos', 'eleitoral', 'distrito', 'tre', 'df', '022020', 'cálculo', 'realizado', 'divulgado', 'inmetro', 'multiplicado', 'capacidade', 'tanque', 'combustível', 'carnê', 'sense', 'maravilha', 'candidato', 'rendimentos', 'auferidos', 'sujeitam', 'incidência', 'fonte', 'títulos', 'emitidos', 'fim', 'captar', 'dívida', 'nivus', 'gosto', 'edson', 'hatakeyama', 'trajetória', 'debates', 'regularização', 'imobiliária', 'ele', 'tornar', 'acesse', 'diretores', 'clubes', 'comunidade', 'subprefeitura', 'pirituba', '2ª', 'polÍtica', 'Área', 'conheÇa', 'polos', 'inscriÇÕes', 'atendendo', 'valparaíso', 'área', 'pedagogia', 'protocolo', 'n°', '22658', 'cupom', 'dicas', 'meu', 'alcançamos', 'certificação', 'neutro', 'explicar', 'fato', 'falantes', 'mesma', 'usem', 'tão', 'diferente', 'concatenar', 'institutos', 'penal', 'processual', 'guia', 'aposentadoria', 'contribuição', '556', 'realizados', 'ateliê', 'google', 'disponibilizados', 'totalmente', 'on', 'line', 'defensoria', 'pÚblica', 'mato', 'grosso', 'mÉdio', 'completo', 'disponilidade', 'trabalahar', 'sÁbados', 'precisa', 'turnos', '14042021', '1651', 'embargos', 'advogados', 'registros', 'controles', 'unidades', 'industriais', 'argentina', '17', 'itens', 'seguintes', 'situação', 'trabalhe', 'aceitos', 'máximo', 'autor', 'principal', 'assuntos', 'invalidez', '427', 'ficam', 'soma', 'enorme', 'permite', 'exceto', 'r\\xa0789', '6', 'chave', 'solicite', 'proposta', 'nossas\\xa0concessionárias', 'últimas', 'novidades', 'selecionadas', 'constituir', 'família', 'adotiva', 'confira', 'passos', 'versa', 'características', 'showroom', 'virtual', 'mediante', 'efetuado', 'diretamente', 'respectivas', 'correntes', 'serem', 'apresentados', 'recebo', 'realizar', 'pagseguro', 'vendeu', '37', 'bilhões', 'junho', 'domínio', 'linguístico', 'pragmático', 'extra', 'avaliações', 'aché', 'inaugura', 'pernambuco', 'lança', 'quarta', 'temporada', 'pensadores', 'poderá', 'ampliar', 'conecte', 'easy', 'entry', 'imagem', 'geladeira', 'refrigerador', 'frost', 'free', 'inox', '454l', 'conteúdo', 'anterior', 'trocas', 'devoluções', 'mensagem', '0', 'km', 'declaro', 'concordo', 'os\\xa0termos', 'denuncie', 'fraudes', 'irregularidades', 'desvios', 'conduta', 'ética', 'deveres', 'assine', 'r118930', '8', 'primeiros', 'r169900', '9º', '48º', 'reuniões', 'comissão', 'quartas', 'feiras', '13h', 'auditório', 'prestes', 'maia', 'amplia', 'programas', 'solidária', 'cozinha', 'cidadã', 'reforçar', 'população', 'vulnerabilidade', 'desenhista', 'edificações', '160h', 'neurociências', 'visão', 'assista', 'instrutivo', 'sucesso', 'voltar', 'comprando', 'navegue', 'pelas', 'categorias', 'chamamento', 'credenciamento', 'prestação', 'corregedoria', 'inspeção', 'seis', 'tribunais', 'trimestre', 'japonesa', 'volante', 'multifuncional', 'couro', 'global', 'inédito', 'apresenta', 'novas', 'percepções', 'inovação', 'alta', 'performance', 'causa', 'consultas', 'multas', 'attack', 'at', '4x4', 'preço', 'r233290', 'semana', 'registro', 'destaca', 'identificação', 'presas', 'advance', 'disponivel', 'celular', 'case', 'plástico', 'quedas', 'protegidos', 'extensão', 'telefone', 'preferência', 'preciso', 'canal', 'aminoácidos', 'nomeados', 'efetuatda', 'aniversário', 'ativo', 'aposentado', 'relatÓrios', 'interna', '\\xa02017', 'humana', 'figura', 'aluno', 'palhaço', 'criando', 'profissão', 'aprendedor\\u200b', 'sexta', 'noturno', 'pagou', '710', 'citibank', 'débito', 'desejo', 'receber', '22', 'laka', '500g', '6990', 'percebido', 'papel', 'crepon', '48cmx200m', 'marrom', 'presos', 'bnmp', 'encontros', 'estudantes', 'voltam', 'Às', 'valparaÍso', 'órgãos', 'públicos', 'dge', 'departamento', 'estratégica', 'poder', 'judiciário', '134672017', 'reforma', 'trabalhista']\n"
     ]
    }
   ],
   "source": [
    "decode_strings(stats['vocab'])"
   ]
  }
 ],
 "metadata": {
  "kernelspec": {
   "display_name": "Python 3.10.4 ('nlp-env')",
   "language": "python",
   "name": "python3"
  },
  "language_info": {
   "codemirror_mode": {
    "name": "ipython",
    "version": 3
   },
   "file_extension": ".py",
   "mimetype": "text/x-python",
   "name": "python",
   "nbconvert_exporter": "python",
   "pygments_lexer": "ipython3",
   "version": "3.10.4"
  },
  "orig_nbformat": 4,
  "vscode": {
   "interpreter": {
    "hash": "bcc22e8534b51d98bc9b648712bea8c158ac15cc397d8241aec1367daf1c6860"
   }
  }
 },
 "nbformat": 4,
 "nbformat_minor": 2
}
